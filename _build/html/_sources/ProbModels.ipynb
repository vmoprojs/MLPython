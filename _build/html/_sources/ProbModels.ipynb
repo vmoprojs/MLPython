{
 "cells": [
  {
   "cell_type": "markdown",
   "metadata": {},
   "source": [
    "# Modelos de Probabilidad\n",
    "\n",
    "## Probabilidad lineal\n",
    "\n",
    "En este caso la variable dependiente es una dummy\n",
    "\n",
    "\n",
    "<img src=\"images/RL_Im7.png\" width=\"500\" height=\"300\">"
   ]
  },
  {
   "cell_type": "markdown",
   "metadata": {},
   "source": [
    "Se trata de modelos del tipo:"
   ]
  },
  {
   "cell_type": "markdown",
   "metadata": {},
   "source": [
    "$$\n",
    "D_{i} = \\beta_{0}+\\beta_{1}X_{1i}+u_{i}\n",
    "$$"
   ]
  },
  {
   "cell_type": "markdown",
   "metadata": {},
   "source": [
    "Veamos un ejemplo: Abrir la base `MROZ` de Wooldridge y ajuste el modelo:"
   ]
  },
  {
   "cell_type": "markdown",
   "metadata": {},
   "source": [
    "$$\n",
    "inlf=\\beta_0nwifeinc+\\beta_1educ + \\beta_2exper +\\beta_3expersq + \\beta_4age + \\beta_5kidslt6 + \\beta_6kidsge6\n",
    "$$"
   ]
  },
  {
   "cell_type": "code",
   "execution_count": 1,
   "metadata": {},
   "outputs": [
    {
     "name": "stdout",
     "output_type": "stream",
     "text": [
      "                            OLS Regression Results                            \n",
      "==============================================================================\n",
      "Dep. Variable:                   inlf   R-squared:                       0.264\n",
      "Model:                            OLS   Adj. R-squared:                  0.257\n",
      "Method:                 Least Squares   F-statistic:                     38.22\n",
      "Date:                Wed, 18 Sep 2024   Prob (F-statistic):           6.90e-46\n",
      "Time:                        05:33:31   Log-Likelihood:                -423.89\n",
      "No. Observations:                 753   AIC:                             863.8\n",
      "Df Residuals:                     745   BIC:                             900.8\n",
      "Df Model:                           7                                         \n",
      "Covariance Type:            nonrobust                                         \n",
      "==============================================================================\n",
      "                 coef    std err          t      P>|t|      [0.025      0.975]\n",
      "------------------------------------------------------------------------------\n",
      "Intercept      0.5855      0.154      3.798      0.000       0.283       0.888\n",
      "nwifeinc      -0.0034      0.001     -2.351      0.019      -0.006      -0.001\n",
      "educ           0.0380      0.007      5.151      0.000       0.024       0.052\n",
      "exper          0.0395      0.006      6.962      0.000       0.028       0.051\n",
      "expersq       -0.0006      0.000     -3.227      0.001      -0.001      -0.000\n",
      "age           -0.0161      0.002     -6.476      0.000      -0.021      -0.011\n",
      "kidslt6       -0.2618      0.034     -7.814      0.000      -0.328      -0.196\n",
      "kidsge6        0.0130      0.013      0.986      0.324      -0.013       0.039\n",
      "==============================================================================\n",
      "Omnibus:                      169.137   Durbin-Watson:                   0.494\n",
      "Prob(Omnibus):                  0.000   Jarque-Bera (JB):               36.741\n",
      "Skew:                          -0.196   Prob(JB):                     1.05e-08\n",
      "Kurtosis:                       1.991   Cond. No.                     3.06e+03\n",
      "==============================================================================\n",
      "\n",
      "Notes:\n",
      "[1] Standard Errors assume that the covariance matrix of the errors is correctly specified.\n",
      "[2] The condition number is large, 3.06e+03. This might indicate that there are\n",
      "strong multicollinearity or other numerical problems.\n"
     ]
    }
   ],
   "source": [
    "import pandas as pd\n",
    "import matplotlib.pyplot as plt\n",
    "import numpy as np\n",
    "\n",
    "# np.set_printoptions(precision=2)\n",
    "\n",
    "uu = \"https://raw.githubusercontent.com/vmoprojs/DataLectures/master/WO/mroz.csv\"\n",
    "datos = pd.read_csv(uu,header = None)\n",
    "\n",
    "\n",
    "datos.columns = [\"inlf\",\"hours\",  \"kidslt6\", \"kidsge6\", \n",
    "               \"age\", \"educ\",  \"wage\",\n",
    "               \"repwage\",\"hushrs\"  ,  \"husage\", \"huseduc\" ,\n",
    "               \"huswage\"  , \"faminc\", \"mtr\",\"motheduc\",\n",
    "               \"fatheduc\" , \"unem\",  \"city\" , \"exper\" , \n",
    "               \"nwifeinc\" , \"lwage\" ,\"expersq\"]\n",
    "\n",
    "\n",
    "import statsmodels.formula.api as smf\n",
    "from statsmodels.graphics.regressionplots import abline_plot\n",
    "from scipy import stats\n",
    "\n",
    "reg1 = smf.ols('inlf ~ nwifeinc + educ + exper + expersq + age+kidslt6 + kidsge6',data = datos).fit()\n",
    "print(reg1.summary())"
   ]
  },
  {
   "cell_type": "markdown",
   "metadata": {},
   "source": [
    "¿Qué hemos ajustado?"
   ]
  },
  {
   "cell_type": "code",
   "execution_count": 2,
   "metadata": {},
   "outputs": [
    {
     "data": {
      "image/png": "[encoded data removed]",
      "text/plain": [
       "<Figure size 640x480 with 1 Axes>"
      ]
     },
     "metadata": {},
     "output_type": "display_data"
    }
   ],
   "source": [
    "aux = smf.ols('inlf ~ educ',data = datos).fit()\n",
    "\n",
    "plt.figure()\n",
    "plt.plot(datos.educ,datos.inlf,'o');\n",
    "plt.plot(datos.educ,aux.fittedvalues,'-',color='r');\n",
    "plt.xlabel('educ');\n",
    "plt.ylabel('inlf');\n",
    "\n"
   ]
  },
  {
   "cell_type": "markdown",
   "metadata": {},
   "source": [
    "- Excepto *kidsge6* los coeficientes son significativos.\n",
    "- Se introdujo la experiencia cuadrática para capturar un efecto decreciente en el efecto deseado (`inlf`). ¿Cómo lo interpretamos?\n",
    "\n",
    "`.039 - 2(.0006)exper = 0.39 - .0012exper`\n",
    "\n",
    "- El punto en el que la experiencia ya no tiene efecto en `inlf` es $.039/.0012 = 32.5$. ¿Cuantos elementos de la muestra tienen más de 32 años de experiencia?\n",
    "\n",
    "\n",
    "Se añade exper al cuadrado porque queremos dar la posibilidad que los años adicionales de expericnecia contribuyan con un efecto decreciente.\n",
    "\n",
    "Trabajemos ahora con la predicción, y revisemos el resultado:"
   ]
  },
  {
   "cell_type": "code",
   "execution_count": 3,
   "metadata": {},
   "outputs": [
    {
     "name": "stdout",
     "output_type": "stream",
     "text": [
      "[(1, 0.6636123221355517), (1, 0.7009165727274149), (1, 0.6727286212890473), (1, 0.7257441305286598), (1, 0.5616358247349595)]\n"
     ]
    },
    {
     "data": {
      "text/plain": [
       "DescribeResult(nobs=753, minmax=(-0.3451102646574087, 1.1271505290421102), mean=0.5683930942895058, variance=0.06490433214015537, skewness=-0.4241251818053438, kurtosis=-0.07391834122184227)"
      ]
     },
     "execution_count": 3,
     "metadata": {},
     "output_type": "execute_result"
    }
   ],
   "source": [
    "pred_vals = reg1.predict()\n",
    "aux = list(zip(datos.inlf,pred_vals))\n",
    "print(aux[0:5])\n",
    "\n",
    "\n",
    "stats.describe(pred_vals)"
   ]
  },
  {
   "cell_type": "markdown",
   "metadata": {},
   "source": [
    "¿Qué podemos notar?\n",
    "\n",
    "\n",
    "- Existen valores mayores a 1 e inferiores a 0.\n",
    "- $R^{2}$ ya no es interpretable en estas regresiones.\n",
    "- Usaremos una probabilidad de ocurrencia, digamos 0.5"
   ]
  },
  {
   "cell_type": "code",
   "execution_count": 4,
   "metadata": {},
   "outputs": [
    {
     "data": {
      "text/plain": [
       "0.7343957503320053"
      ]
     },
     "execution_count": 4,
     "metadata": {},
     "output_type": "execute_result"
    }
   ],
   "source": [
    "prediccion_dum = (pred_vals>=0.5)*1\n",
    "\n",
    "tab = pd.crosstab(datos.inlf,prediccion_dum)\n",
    "(tab.iloc[0,0]+tab.iloc[1,1])/datos.shape[0]"
   ]
  },
  {
   "cell_type": "markdown",
   "metadata": {},
   "source": [
    "## Logit\n",
    "\n",
    "La regresión logística puede entenderse simplemente como encontrar los parámtros $\\beta$ que mejor asjuten:\n",
    "\n",
    "$$\n",
    "y={\\begin{cases}1&\\beta_{1}+\\beta_{2}X_{1}+\\cdots+\\beta_{k}X_{k}+u >0\\\\0&{\\text{en otro caso}}\\end{cases}}\n",
    "$$\n",
    "\n",
    "Donde se asume que el error tiene una [distribución logística estándar](https://es.wikipedia.org/wiki/Distribuci%C3%B3n_log%C3%ADstica)\n",
    "\n",
    "$$\n",
    "{\\displaystyle f(x;\\mu ,s)={\\frac {e^{-{\\frac {x-\\mu }{s}}}}{s\\left(1+e^{-{\\frac {x-\\mu }{s}}}\\right)^{2}}}={\\frac {1}{s\\left(e^{\\frac {x-\\mu }{2s}}+e^{-{\\frac {x-\\mu }{2s}}}\\right)^{2}}}={\\frac {1}{4s}}\\operatorname {sech} ^{2}\\!\\left({\\frac {x-\\mu }{2s}}\\right).}\n",
    "$$\n",
    "\n",
    "Donde $s$ es el parámetro de escala y $\\mu$ el de locación (*sech* es la función secante hiperbólico).\n",
    "\n",
    "\n",
    "Otra forma de entender la regresión logística es a través de la función logística:\n",
    "\n",
    "$$\n",
    "\\sigma (t)={\\frac {e^{t}}{e^{t}+1}}={\\frac {1}{1+e^{-t}}}\n",
    "$$\n",
    "\n",
    "donde $t\\in \\mathbb{R}$ y $0\\leq\\sigma (t)\\leq1$.\n",
    "\n",
    "Asumiento $t$ como una función lineal de una variable explicativa $x$, tenemos:\n",
    "\n",
    "$$\n",
    "t=\\beta _{0}+\\beta _{1}x\n",
    "$$\n",
    "\n",
    "Ahora la función logística se puede expresar:\n",
    "\n",
    "$$\n",
    "p(x)={\\frac {1}{1+e^{-(\\beta _{0}+\\beta _{1}x)}}}\n",
    "$$\n",
    "\n",
    "Ten en cuenta que $p (x)$ se interpreta como la probabilidad de que la variable dependiente iguale a *éxito*  en lugar de un *fracaso*. Está claro que las variables de respuesta $Y_ {i}$ no se distribuyen de forma idéntica: $ P (Y_ {i} = 1 \\ mid X )$ difiere de un punto $X_ {i}$ a otro, aunque son independientes dado que la matriz de diseño $X$ y los parámetros compartidos $\\beta$.\n",
    "\n",
    "Finalmente definimos la inversa de la función logística, $g$, el **logit** (log odds):\n",
    "\n",
    "$$\n",
    "{\\displaystyle g(p(x))=\\ln \\left({\\frac {p(x)}{1-p(x)}}\\right)=\\beta _{0}+\\beta _{1}x,}\n",
    "$$\n",
    "\n",
    "lo que es equivalente a:\n",
    "\n",
    "$$\n",
    "{\\frac {p(x)}{1-p(x)}}=e^{\\beta _{0}+\\beta _{1}x}\n",
    "$$\n",
    "\n",
    "**Interpretación**:\n",
    "\n",
    "-   $g$ es la función logit. La ecuación para $g (p (x))$ ilustra que el logit (es decir, log-odds o logaritmo natural de las probabilidades) es equivalente a la expresión de regresión lineal.\n",
    "-   $ln$ denota el logaritmo natural.\n",
    "-   $p (x)$ es la probabilidad de que la variable dependiente sea igual a un caso, dada alguna combinación lineal de los predictores. La fórmula para $p (x)$ ilustra que la probabilidad de que la variable dependiente iguale un caso es igual al valor de la función logística de la expresión de regresión lineal. Esto es importante porque muestra que el valor de la expresión de regresión lineal puede variar de infinito negativo a positivo y, sin embargo, después de la transformación, la expresión resultante para la probabilidad $p (x)$ oscila entre $0$ y $1$.\n",
    "-   $\\beta _ {0}$ es la intersección de la ecuación de regresión lineal (el valor del criterio cuando el predictor es igual a cero).\n",
    "-   $\\beta _ {1} x$ es el coeficiente de regresión multiplicado por algún valor del predictor.\n",
    "-   la base $e$ denota la función exponencial."
   ]
  },
  {
   "cell_type": "markdown",
   "metadata": {},
   "source": [
    "**Ejemplo**\n",
    "\n",
    "Abra la tabla 15.7 \n",
    "\n",
    "\n",
    "-   Los datos son el efecto del Sistema de Enseñanza Personalizada (PSI) sobre las calificaciones.\n",
    "    -   Calificación $Y = 1$ si la calificación final fue A\n",
    "    -   $Y = 0$ si la calificación final fue B o C\n",
    "    -   `TUCE` = calificación en un examen presentado al comienzo del curso para evaluar los conocimientos previos de macroeconomía\n",
    "    -   `PSI` = 1 con el nuevo método de enseñanza, 0 en otro caso\n",
    "    -   `GPA` = promedio de puntos de calificación inicial\n",
    "-   Ajuste el siguiente modelo:\n",
    "`ajuste1 <- glm(GRADE~GPA+TUCE+PSI,\n",
    "family=binomial(link=\"logit\"),x=T)`\n",
    "-   Interprete el modelo\n",
    "\n",
    "\n",
    "En los modelos cuya variable regresada binaria, la bondad del ajuste tiene una importancia secundaria. Lo que interesa son los signos esperados de los coeficientes de la regresión y su importancia práctica y/o estadística.\n",
    "\n",
    "\n",
    "Importamos los datos y revisamos la variable dependiente:"
   ]
  },
  {
   "cell_type": "code",
   "execution_count": 5,
   "metadata": {},
   "outputs": [
    {
     "data": {
      "text/html": [
       "<div>\n",
       "<style scoped>\n",
       "    .dataframe tbody tr th:only-of-type {\n",
       "        vertical-align: middle;\n",
       "    }\n",
       "\n",
       "    .dataframe tbody tr th {\n",
       "        vertical-align: top;\n",
       "    }\n",
       "\n",
       "    .dataframe thead tr th {\n",
       "        text-align: left;\n",
       "    }\n",
       "\n",
       "    .dataframe thead tr:last-of-type th {\n",
       "        text-align: right;\n",
       "    }\n",
       "</style>\n",
       "<table border=\"1\" class=\"dataframe\">\n",
       "  <thead>\n",
       "    <tr>\n",
       "      <th></th>\n",
       "      <th colspan=\"5\" halign=\"left\">len</th>\n",
       "    </tr>\n",
       "    <tr>\n",
       "      <th></th>\n",
       "      <th>GPA</th>\n",
       "      <th>LETTER</th>\n",
       "      <th>OBS</th>\n",
       "      <th>PSI</th>\n",
       "      <th>TUCE</th>\n",
       "    </tr>\n",
       "    <tr>\n",
       "      <th>GRADE</th>\n",
       "      <th></th>\n",
       "      <th></th>\n",
       "      <th></th>\n",
       "      <th></th>\n",
       "      <th></th>\n",
       "    </tr>\n",
       "  </thead>\n",
       "  <tbody>\n",
       "    <tr>\n",
       "      <th>0</th>\n",
       "      <td>21</td>\n",
       "      <td>21</td>\n",
       "      <td>21</td>\n",
       "      <td>21</td>\n",
       "      <td>21</td>\n",
       "    </tr>\n",
       "    <tr>\n",
       "      <th>1</th>\n",
       "      <td>11</td>\n",
       "      <td>11</td>\n",
       "      <td>11</td>\n",
       "      <td>11</td>\n",
       "      <td>11</td>\n",
       "    </tr>\n",
       "  </tbody>\n",
       "</table>\n",
       "</div>"
      ],
      "text/plain": [
       "      len                    \n",
       "      GPA LETTER OBS PSI TUCE\n",
       "GRADE                        \n",
       "0      21     21  21  21   21\n",
       "1      11     11  11  11   11"
      ]
     },
     "execution_count": 5,
     "metadata": {},
     "output_type": "execute_result"
    }
   ],
   "source": [
    "uu = \"https://raw.githubusercontent.com/vmoprojs/DataLectures/master/GA/tabla15_7.csv\"\n",
    "datos = pd.read_csv(uu,sep = ';')\n",
    "datos.columns\n",
    "\n",
    "# import statsmodels.api as sm\n",
    "datos.pivot_table(index = 'GRADE', aggfunc = [len])"
   ]
  },
  {
   "cell_type": "markdown",
   "metadata": {},
   "source": [
    "Ajustamos el modelo:"
   ]
  },
  {
   "cell_type": "code",
   "execution_count": 6,
   "metadata": {},
   "outputs": [
    {
     "name": "stdout",
     "output_type": "stream",
     "text": [
      "Optimization terminated successfully.\n",
      "         Current function value: 0.402801\n",
      "         Iterations 7\n",
      "                           Logit Regression Results                           \n",
      "==============================================================================\n",
      "Dep. Variable:                  GRADE   No. Observations:                   32\n",
      "Model:                          Logit   Df Residuals:                       28\n",
      "Method:                           MLE   Df Model:                            3\n",
      "Date:                Wed, 18 Sep 2024   Pseudo R-squ.:                  0.3740\n",
      "Time:                        05:33:32   Log-Likelihood:                -12.890\n",
      "converged:                       True   LL-Null:                       -20.592\n",
      "Covariance Type:            nonrobust   LLR p-value:                  0.001502\n",
      "==============================================================================\n",
      "                 coef    std err          z      P>|z|      [0.025      0.975]\n",
      "------------------------------------------------------------------------------\n",
      "Intercept    -13.0213      4.931     -2.641      0.008     -22.687      -3.356\n",
      "GPA            2.8261      1.263      2.238      0.025       0.351       5.301\n",
      "TUCE           0.0952      0.142      0.672      0.501      -0.182       0.373\n",
      "PSI            2.3787      1.065      2.234      0.025       0.292       4.465\n",
      "==============================================================================\n"
     ]
    }
   ],
   "source": [
    "ajuste1 = smf.logit('GRADE ~ GPA + TUCE + PSI',data = datos).fit()\n",
    "\n",
    "print(ajuste1.summary())"
   ]
  },
  {
   "cell_type": "code",
   "execution_count": 7,
   "metadata": {},
   "outputs": [
    {
     "data": {
      "text/html": [
       "<table class=\"simpletable\">\n",
       "<caption>Logit Marginal Effects</caption>\n",
       "<tr>\n",
       "  <th>Dep. Variable:</th> <td>GRADE</td>\n",
       "</tr>\n",
       "<tr>\n",
       "  <th>Method:</th>        <td>dydx</td> \n",
       "</tr>\n",
       "<tr>\n",
       "  <th>At:</th>            <td>mean</td> \n",
       "</tr>\n",
       "</table>\n",
       "<table class=\"simpletable\">\n",
       "<tr>\n",
       "    <th></th>      <th>dy/dx</th>    <th>std err</th>      <th>z</th>      <th>P>|z|</th>  <th>[0.025</th>    <th>0.975]</th>  \n",
       "</tr>\n",
       "<tr>\n",
       "  <th>GPA</th>  <td>    0.5339</td> <td>    0.237</td> <td>    2.252</td> <td> 0.024</td> <td>    0.069</td> <td>    0.998</td>\n",
       "</tr>\n",
       "<tr>\n",
       "  <th>TUCE</th> <td>    0.0180</td> <td>    0.026</td> <td>    0.685</td> <td> 0.493</td> <td>   -0.033</td> <td>    0.069</td>\n",
       "</tr>\n",
       "<tr>\n",
       "  <th>PSI</th>  <td>    0.4493</td> <td>    0.197</td> <td>    2.284</td> <td> 0.022</td> <td>    0.064</td> <td>    0.835</td>\n",
       "</tr>\n",
       "</table>"
      ],
      "text/latex": [
       "\\begin{center}\n",
       "\\begin{tabular}{lc}\n",
       "\\toprule\n",
       "\\textbf{Dep. Variable:} &     GRADE       \\\\\n",
       "\\textbf{Method:}        &      dydx       \\\\\n",
       "\\textbf{At:}            &      mean       \\\\\n",
       "\\bottomrule\n",
       "\\end{tabular}\n",
       "\\begin{tabular}{ccccccc}\n",
       "  \\textbf{}   & \\textbf{dy/dx} & \\textbf{std err} & \\textbf{z} & \\textbf{P$> |$z$|$} & \\textbf{[0.025} & \\textbf{0.975]}  \\\\\n",
       "\\midrule\n",
       "\\bottomrule\n",
       "\\end{tabular}\n",
       "\\begin{tabular}{lcccccc}\n",
       "\\textbf{GPA}  &       0.5339   &        0.237     &     2.252  &         0.024        &        0.069    &        0.998     \\\\\n",
       "\\textbf{TUCE} &       0.0180   &        0.026     &     0.685  &         0.493        &       -0.033    &        0.069     \\\\\n",
       "\\textbf{PSI}  &       0.4493   &        0.197     &     2.284  &         0.022        &        0.064    &        0.835     \\\\\n",
       "\\bottomrule\n",
       "\\end{tabular}\n",
       "%\\caption{Logit Marginal Effects}\n",
       "\\end{center}"
      ],
      "text/plain": [
       "<class 'statsmodels.iolib.summary.Summary'>\n",
       "\"\"\"\n",
       "        Logit Marginal Effects       \n",
       "=====================================\n",
       "Dep. Variable:                  GRADE\n",
       "Method:                          dydx\n",
       "At:                              mean\n",
       "==============================================================================\n",
       "                dy/dx    std err          z      P>|z|      [0.025      0.975]\n",
       "------------------------------------------------------------------------------\n",
       "GPA            0.5339      0.237      2.252      0.024       0.069       0.998\n",
       "TUCE           0.0180      0.026      0.685      0.493      -0.033       0.069\n",
       "PSI            0.4493      0.197      2.284      0.022       0.064       0.835\n",
       "==============================================================================\n",
       "\"\"\""
      ]
     },
     "execution_count": 7,
     "metadata": {},
     "output_type": "execute_result"
    }
   ],
   "source": [
    "ajuste1.get_margeff(at='mean').summary()"
   ]
  },
  {
   "cell_type": "code",
   "execution_count": 8,
   "metadata": {},
   "outputs": [
    {
     "data": {
      "text/plain": [
       "array([[0.07311607, 0.00246188, 0.06154047],\n",
       "       [0.15815168, 0.0053251 , 0.1331134 ],\n",
       "       [0.43011639, 0.01448239, 0.36202116],\n",
       "       [0.07130492, 0.0024009 , 0.06001605],\n",
       "       [0.69272252, 0.02332457, 0.58305197],\n",
       "       [0.09507939, 0.00320141, 0.08002659],\n",
       "       [0.0729182 , 0.00245522, 0.06137393],\n",
       "       [0.1381988 , 0.00465327, 0.11631942],\n",
       "       [0.2791564 , 0.00939944, 0.23496087],\n",
       "       [0.60069976, 0.02022608, 0.50559808]])"
      ]
     },
     "execution_count": 8,
     "metadata": {},
     "output_type": "execute_result"
    }
   ],
   "source": [
    "mm = ajuste1.get_margeff(at='all').margeff\n",
    "mm[0:10,:]"
   ]
  },
  {
   "cell_type": "markdown",
   "metadata": {},
   "source": [
    "¿Son, en conjunto, los coeficientes significativos?"
   ]
  },
  {
   "cell_type": "code",
   "execution_count": 9,
   "metadata": {},
   "outputs": [
    {
     "data": {
      "text/plain": [
       "<class 'statsmodels.stats.contrast.ContrastResults'>\n",
       "<Wald test (chi2): statistic=8.873128862019607, p-value=0.06435007959304212, df_denom=4>"
      ]
     },
     "execution_count": 9,
     "metadata": {},
     "output_type": "execute_result"
    }
   ],
   "source": [
    "hyp = '(Intercept = 0, GPA = 0,TUCE=0,PSI=0)'\n",
    "ajuste1.wald_test(hyp,scalar = True)"
   ]
  },
  {
   "cell_type": "code",
   "execution_count": 10,
   "metadata": {},
   "outputs": [
    {
     "data": {
      "text/plain": [
       "Intercept     0.000002\n",
       "GPA          16.879715\n",
       "TUCE          1.099832\n",
       "PSI          10.790732\n",
       "dtype: float64"
      ]
     },
     "execution_count": 10,
     "metadata": {},
     "output_type": "execute_result"
    }
   ],
   "source": [
    "np.exp(ajuste1.params)"
   ]
  },
  {
   "cell_type": "markdown",
   "metadata": {},
   "source": [
    "Esto indica que los estudiantes expuestos al nuevo método de enseñanza son 10 veces más propensos a obtener una A que quienes no están expuestos al nuevo método, en tanto no cambien los demás factores."
   ]
  },
  {
   "cell_type": "code",
   "execution_count": 17,
   "metadata": {},
   "outputs": [
    {
     "data": {
      "text/plain": [
       "array([-2.09308603, -1.61569183, -0.87816803, -2.08420699,  0.13722837,\n",
       "       -1.92311086, -2.08569187, -1.69993698, -1.23289159,  0.42099513,\n",
       "       -2.14186033, -0.86486457, -0.45841206, -0.85895528, -0.36825763,\n",
       "       -2.01475018, -1.6881184 , -1.86842727,  0.23630576,  0.40479606,\n",
       "       -1.53878182,  1.30785551, -0.60319106,  1.02555852,  0.97087493,\n",
       "       -0.02826337,  0.3649008 , -0.44357981,  0.99452719,  1.6670186 ,\n",
       "        0.10033167, -1.15745135])"
      ]
     },
     "execution_count": 17,
     "metadata": {},
     "output_type": "execute_result"
    }
   ],
   "source": [
    "ajuste1.predict(which = 'linear')"
   ]
  },
  {
   "cell_type": "markdown",
   "metadata": {},
   "source": [
    "## Probit\n",
    "\n",
    "En los modelos logia se propuso la logística, en este caso se propone la Función de Distribución Acumulada Normal. Suponga que la variable de respuesta es binaria, 1 o 0. $Y$ podría representar la presencia/ausencia de una condición, éxito/fracaso, si/no. Se tiene también un vector de regresoras $X$, el modelo toma la forma:\n",
    "\n",
    "$$\n",
    "{\\displaystyle \\Pr(Y=1\\mid X)=\\Phi (X^{T}\\beta ),}\n",
    "$$\n",
    "\n",
    "donde $Pr$ es la prbabilidad y $\\Phi$ distribución acumulada de la normal estándar ${\\displaystyle \\Phi (x)={\\frac {1}{\\sqrt {2\\pi }}}\\int _{-\\infty }^{x}e^{-t^{2}/2}\\,dt}$. Los parámetros $\\beta$ se estiman típicamente con el método de máxima verosimilitud.\n"
   ]
  },
  {
   "cell_type": "markdown",
   "metadata": {},
   "source": [
    "**Ejemplo**"
   ]
  },
  {
   "cell_type": "code",
   "execution_count": 12,
   "metadata": {},
   "outputs": [
    {
     "name": "stdout",
     "output_type": "stream",
     "text": [
      "Optimization terminated successfully.\n",
      "         Current function value: 0.400588\n",
      "         Iterations 6\n",
      "                          Probit Regression Results                           \n",
      "==============================================================================\n",
      "Dep. Variable:                  GRADE   No. Observations:                   32\n",
      "Model:                         Probit   Df Residuals:                       28\n",
      "Method:                           MLE   Df Model:                            3\n",
      "Date:                Wed, 18 Sep 2024   Pseudo R-squ.:                  0.3775\n",
      "Time:                        05:33:32   Log-Likelihood:                -12.819\n",
      "converged:                       True   LL-Null:                       -20.592\n",
      "Covariance Type:            nonrobust   LLR p-value:                  0.001405\n",
      "==============================================================================\n",
      "                 coef    std err          z      P>|z|      [0.025      0.975]\n",
      "------------------------------------------------------------------------------\n",
      "Intercept     -7.4523      2.542     -2.931      0.003     -12.435      -2.469\n",
      "GPA            1.6258      0.694      2.343      0.019       0.266       2.986\n",
      "TUCE           0.0517      0.084      0.617      0.537      -0.113       0.216\n",
      "PSI            1.4263      0.595      2.397      0.017       0.260       2.593\n",
      "==============================================================================\n"
     ]
    }
   ],
   "source": [
    "ajuste1 = smf.probit('GRADE ~ GPA + TUCE + PSI',data = datos).fit()\n",
    "\n",
    "print(ajuste1.summary())"
   ]
  },
  {
   "cell_type": "code",
   "execution_count": 13,
   "metadata": {},
   "outputs": [
    {
     "data": {
      "text/html": [
       "<table class=\"simpletable\">\n",
       "<caption>Probit Marginal Effects</caption>\n",
       "<tr>\n",
       "  <th>Dep. Variable:</th> <td>GRADE</td>\n",
       "</tr>\n",
       "<tr>\n",
       "  <th>Method:</th>        <td>dydx</td> \n",
       "</tr>\n",
       "<tr>\n",
       "  <th>At:</th>            <td>mean</td> \n",
       "</tr>\n",
       "</table>\n",
       "<table class=\"simpletable\">\n",
       "<tr>\n",
       "    <th></th>      <th>dy/dx</th>    <th>std err</th>      <th>z</th>      <th>P>|z|</th>  <th>[0.025</th>    <th>0.975]</th>  \n",
       "</tr>\n",
       "<tr>\n",
       "  <th>GPA</th>  <td>    0.5333</td> <td>    0.232</td> <td>    2.294</td> <td> 0.022</td> <td>    0.078</td> <td>    0.989</td>\n",
       "</tr>\n",
       "<tr>\n",
       "  <th>TUCE</th> <td>    0.0170</td> <td>    0.027</td> <td>    0.626</td> <td> 0.531</td> <td>   -0.036</td> <td>    0.070</td>\n",
       "</tr>\n",
       "<tr>\n",
       "  <th>PSI</th>  <td>    0.4679</td> <td>    0.188</td> <td>    2.494</td> <td> 0.013</td> <td>    0.100</td> <td>    0.836</td>\n",
       "</tr>\n",
       "</table>"
      ],
      "text/latex": [
       "\\begin{center}\n",
       "\\begin{tabular}{lc}\n",
       "\\toprule\n",
       "\\textbf{Dep. Variable:} &     GRADE       \\\\\n",
       "\\textbf{Method:}        &      dydx       \\\\\n",
       "\\textbf{At:}            &      mean       \\\\\n",
       "\\bottomrule\n",
       "\\end{tabular}\n",
       "\\begin{tabular}{ccccccc}\n",
       "  \\textbf{}   & \\textbf{dy/dx} & \\textbf{std err} & \\textbf{z} & \\textbf{P$> |$z$|$} & \\textbf{[0.025} & \\textbf{0.975]}  \\\\\n",
       "\\midrule\n",
       "\\bottomrule\n",
       "\\end{tabular}\n",
       "\\begin{tabular}{lcccccc}\n",
       "\\textbf{GPA}  &       0.5333   &        0.232     &     2.294  &         0.022        &        0.078    &        0.989     \\\\\n",
       "\\textbf{TUCE} &       0.0170   &        0.027     &     0.626  &         0.531        &       -0.036    &        0.070     \\\\\n",
       "\\textbf{PSI}  &       0.4679   &        0.188     &     2.494  &         0.013        &        0.100    &        0.836     \\\\\n",
       "\\bottomrule\n",
       "\\end{tabular}\n",
       "%\\caption{Probit Marginal Effects}\n",
       "\\end{center}"
      ],
      "text/plain": [
       "<class 'statsmodels.iolib.summary.Summary'>\n",
       "\"\"\"\n",
       "       Probit Marginal Effects       \n",
       "=====================================\n",
       "Dep. Variable:                  GRADE\n",
       "Method:                          dydx\n",
       "At:                              mean\n",
       "==============================================================================\n",
       "                dy/dx    std err          z      P>|z|      [0.025      0.975]\n",
       "------------------------------------------------------------------------------\n",
       "GPA            0.5333      0.232      2.294      0.022       0.078       0.989\n",
       "TUCE           0.0170      0.027      0.626      0.531      -0.036       0.070\n",
       "PSI            0.4679      0.188      2.494      0.013       0.100       0.836\n",
       "==============================================================================\n",
       "\"\"\""
      ]
     },
     "execution_count": 13,
     "metadata": {},
     "output_type": "execute_result"
    }
   ],
   "source": [
    "ajuste1.get_margeff(at='mean').summary()"
   ]
  },
  {
   "cell_type": "code",
   "execution_count": 14,
   "metadata": {},
   "outputs": [
    {
     "data": {
      "text/plain": [
       "array([[0.07255307, 0.00230845, 0.06365122],\n",
       "       [0.17584323, 0.00559486, 0.15426826],\n",
       "       [0.44108314, 0.01403409, 0.38696473],\n",
       "       [0.07391114, 0.00235166, 0.06484266],\n",
       "       [0.64252589, 0.02044346, 0.5636916 ],\n",
       "       [0.10206861, 0.00324755, 0.08954537],\n",
       "       [0.07368267, 0.00234439, 0.06464222],\n",
       "       [0.15292232, 0.00486558, 0.13415961],\n",
       "       [0.3033272 , 0.00965106, 0.26611067],\n",
       "       [0.59359928, 0.01888675, 0.520768  ]])"
      ]
     },
     "execution_count": 14,
     "metadata": {},
     "output_type": "execute_result"
    }
   ],
   "source": [
    "mm = ajuste1.get_margeff(at='all').margeff\n",
    "mm[0:10,:]"
   ]
  },
  {
   "cell_type": "code",
   "execution_count": 16,
   "metadata": {},
   "outputs": [
    {
     "data": {
      "text/plain": [
       "array([-2.09308603, -1.61569183, -0.87816803, -2.08420699,  0.13722837,\n",
       "       -1.92311086, -2.08569187, -1.69993698, -1.23289159,  0.42099513,\n",
       "       -2.14186033, -0.86486457, -0.45841206, -0.85895528, -0.36825763,\n",
       "       -2.01475018, -1.6881184 , -1.86842727,  0.23630576,  0.40479606,\n",
       "       -1.53878182,  1.30785551, -0.60319106,  1.02555852,  0.97087493,\n",
       "       -0.02826337,  0.3649008 , -0.44357981,  0.99452719,  1.6670186 ,\n",
       "        0.10033167, -1.15745135])"
      ]
     },
     "execution_count": 16,
     "metadata": {},
     "output_type": "execute_result"
    }
   ],
   "source": [
    "ajuste1.predict(which = 'linear')"
   ]
  }
 ],
 "metadata": {
  "kernelspec": {
   "display_name": "Python 3 (ipykernel)",
   "language": "python",
   "name": "python3"
  },
  "language_info": {
   "codemirror_mode": {
    "name": "ipython",
    "version": 3
   },
   "file_extension": ".py",
   "mimetype": "text/x-python",
   "name": "python",
   "nbconvert_exporter": "python",
   "pygments_lexer": "ipython3",
   "version": "3.9.19"
  }
 },
 "nbformat": 4,
 "nbformat_minor": 4
}
