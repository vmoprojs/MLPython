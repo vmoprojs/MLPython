{
 "cells": [
  {
   "cell_type": "markdown",
   "metadata": {},
   "source": [
    "# Machine Learning\n"
   ]
  },
  {
   "cell_type": "markdown",
   "metadata": {},
   "source": [
    "## El bosque: Inteligencia Artificial\n",
    "Visto en un campo más amplio, el Machine Leaning o Aprendizaje Automático es un subconjunto de la Inteligencia Aritificial.\n",
    "\n",
    "<img src=\"images/Diapositiva1.jpeg\" width=\"700\" height=\"200\">"
   ]
  },
  {
   "cell_type": "markdown",
   "metadata": {},
   "source": [
    "La imagen que antecede nos muestra varios componentes de la Inteligencia Artificial (IA) donde tenemos:\n",
    "\n",
    "- **Supervised Learning**: Aprendizaje supervisado, se presenta en un círculo más grande puesto que es el que ha tenido más penetración en distintas aplicaciones, tanto desde la perspectiva de aplicaciones en la industria así como avances dado por la comunidad de desarrolladores y la academia. Hoy es posible hacer aprendizaje supervisado de alto nivel en un computador personal.\n",
    "\n",
    "- **Unsupervised Learning**: Aprendizaje no supervisado, menos popular pero también con aplicaciones en distintas áreas.\n",
    "\n",
    "- **Reinforcement Learning**: Aprendizaje por refuerzo, *inspirada en la psicología conductista, cuya ocupación es determinar qué acciones debe escoger un agente de software en un entorno dado con el fin de maximizar alguna noción de \"recompensa\" o premio acumulado*.\n",
    "\n",
    "- **Generative IA**: Inteligencia Artificial Generativa, tiene por objetivo la generación de texto, imágenes u otros medios en respuesta a comandos.\n",
    "\n",
    "\n",
    "Es importante mencionar que la Inteligencia Artificial Generativa está teniendo un gran impacto en distintas aplicaciones, pero el desarrollo de este tipo de IA es limitado a empresas con grandes capitales. Esto se debe a que se estima que desarrollar requiere de una inversión de alrededor de USD 500 millones."
   ]
  },
  {
   "cell_type": "markdown",
   "metadata": {},
   "source": [
    "## Machine Learning\n",
    "\n",
    "Es un conjunto amplio de herramientas para entender y descrubrir estructras en los datos. Estas herramientas se clasifican en **supervisadas** y **no supervisadas**.\n",
    "\n",
    "<img src=\"images/Diapositiva2.jpeg\" width=\"700\" height=\"200\">"
   ]
  },
  {
   "cell_type": "markdown",
   "metadata": {},
   "source": [
    "### Terminología\n",
    "\n",
    "El **aprendizaje supervisado** implica la construcción de un modelo estadístico para **predecir** o estimar un resultado en función de una o más variables de entrada. Podemos considerar el aprendizaje supervisado como el uso de una función que asigna variables de entrada a un resultado.\n",
    "\n",
    "- Las **variables de entrada** tienen muchos nombres, como: x, explicativa (*explanatory*), predictora (*predictor*), regresora (*regressor*), independiente y característica (*feature*).\n",
    "\n",
    "- La **variable de salida** también tiene muchos nombres, como: y, respuesta (*response*), dependiente, objetivo (*target*), resultado y etiqueta (*label*).\n",
    "\n",
    "\n",
    "En el **aprendizaje no supervisado**, hay entradas pero no salidas supervisadas; no obstante, podemos aprender relaciones y estructuras a partir de esos datos. Los problemas de aprendizaje no supervisado que cubrimos se dividen en dos grandes categorías:\n",
    "\n",
    "- La **reducción de dimensionalidad** es una técnica para transformar datos de alta dimensión en un espacio de baja dimensión, preservando al mismo tiempo las propiedades útiles de los datos.\n",
    "\n",
    "- La agrupación en **clústeres** o conglomerados es una técnica que implica encontrar subgrupos, o clústeres, en un conjunto de datos de modo que las observaciones dentro del mismo grupo sean bastante *similares* entre sí, mientras que las observaciones en diferentes grupos sean bastante *diferentes* entre sí."
   ]
  }
 ],
 "metadata": {
  "kernelspec": {
   "display_name": "Python 3 (ipykernel)",
   "language": "python",
   "name": "python3"
  },
  "language_info": {
   "codemirror_mode": {
    "name": "ipython",
    "version": 3
   },
   "file_extension": ".py",
   "mimetype": "text/x-python",
   "name": "python",
   "nbconvert_exporter": "python",
   "pygments_lexer": "ipython3",
   "version": "3.9.19"
  }
 },
 "nbformat": 4,
 "nbformat_minor": 2
}
