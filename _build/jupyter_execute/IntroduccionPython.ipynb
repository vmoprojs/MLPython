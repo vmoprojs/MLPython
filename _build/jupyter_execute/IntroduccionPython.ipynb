{
 "cells": [
  {
   "cell_type": "markdown",
   "metadata": {},
   "source": [
    "# Python, una introducción\n",
    "## Tipos de datos\n",
    "- Tuplas: para agrupar objetos de diferentes tipos\n",
    "- Listas: para grupar objetos del mismo tipo\n",
    "- Arrays: para trabajar con datos numéricos (también se puede usar *matrix*, pero la mayorías de funciones y rutinas aceptan *arrays*)\n",
    "- Diccionarios: para datos estructurados\n",
    "- DataFrames: para análisis estadístico"
   ]
  },
  {
   "cell_type": "markdown",
   "metadata": {},
   "source": [
    "**Tuple()**\n",
    "\n",
    "Agrupa diferentes cosas. Las tuplas son *inmutables*, no pueden cambiar luego de crearse.\n"
   ]
  },
  {
   "cell_type": "code",
   "execution_count": 1,
   "metadata": {},
   "outputs": [],
   "source": [
    "import numpy as np"
   ]
  },
  {
   "cell_type": "code",
   "execution_count": 2,
   "metadata": {},
   "outputs": [],
   "source": [
    "miTupla = ('abc', np.arange(0,3,0.2), 2.5)"
   ]
  },
  {
   "cell_type": "code",
   "execution_count": 3,
   "metadata": {},
   "outputs": [
    {
     "data": {
      "text/plain": [
       "2.5"
      ]
     },
     "execution_count": 3,
     "metadata": {},
     "output_type": "execute_result"
    }
   ],
   "source": [
    "miTupla[2]"
   ]
  },
  {
   "cell_type": "markdown",
   "metadata": {},
   "source": [
    "**List[]**\n",
    "\n",
    "Las listas son *mutables*, pueden cambiar luego de crearse. Se usan para agrupar objetos del mismo tipo (números, caracteres, ...). El signo *+* concatena listas"
   ]
  },
  {
   "cell_type": "code",
   "execution_count": 4,
   "metadata": {},
   "outputs": [],
   "source": [
    "miLista = [\"abc\",\"def\",\"hgoj\"]"
   ]
  },
  {
   "cell_type": "code",
   "execution_count": 5,
   "metadata": {},
   "outputs": [],
   "source": [
    "miLista.append(\"klm\")"
   ]
  },
  {
   "cell_type": "code",
   "execution_count": 6,
   "metadata": {},
   "outputs": [
    {
     "data": {
      "text/plain": [
       "['abc', 'def', 'hgoj', 'klm']"
      ]
     },
     "execution_count": 6,
     "metadata": {},
     "output_type": "execute_result"
    }
   ],
   "source": [
    "miLista"
   ]
  },
  {
   "cell_type": "code",
   "execution_count": 7,
   "metadata": {},
   "outputs": [],
   "source": [
    "miLista2 = [1,2,3]\n",
    "miLista3 = [4,5,6]"
   ]
  },
  {
   "cell_type": "code",
   "execution_count": 8,
   "metadata": {},
   "outputs": [
    {
     "data": {
      "text/plain": [
       "[1, 2, 3, 4, 5, 6]"
      ]
     },
     "execution_count": 8,
     "metadata": {},
     "output_type": "execute_result"
    }
   ],
   "source": [
    "miLista2 +miLista3"
   ]
  },
  {
   "cell_type": "markdown",
   "metadata": {},
   "source": [
    "**Array[]**\n",
    "\n",
    "Vectores y matrices para manipulación numérica de datos. Se definen en *numpy*. Nota que los vectores y arrays de dimensión 1-d son diferentes: los vectores NO se pueden transponer. El operador \"+\" suma los elementos correspondientes, el método *.dot* nos sirve para multiplicar dos arrays."
   ]
  },
  {
   "cell_type": "code",
   "execution_count": 9,
   "metadata": {},
   "outputs": [],
   "source": [
    "miArray2 = np.array(miLista2)\n",
    "miArray3 = np.array(miLista3)"
   ]
  },
  {
   "cell_type": "code",
   "execution_count": 10,
   "metadata": {},
   "outputs": [
    {
     "data": {
      "text/plain": [
       "array([5, 7, 9])"
      ]
     },
     "execution_count": 10,
     "metadata": {},
     "output_type": "execute_result"
    }
   ],
   "source": [
    "miArray2+miArray3"
   ]
  },
  {
   "cell_type": "code",
   "execution_count": 11,
   "metadata": {},
   "outputs": [
    {
     "data": {
      "text/plain": [
       "32"
      ]
     },
     "execution_count": 11,
     "metadata": {},
     "output_type": "execute_result"
    }
   ],
   "source": [
    "miArray2.dot(miArray3)"
   ]
  },
  {
   "cell_type": "markdown",
   "metadata": {},
   "source": [
    "**Diccionarios{}**\n",
    "Los diccionarios son colecciones de contenido no ordenado (*key/value*), donde el contenido se asigna como `dict['key']`. Los diccionarios se crean con el comando `dict` o usando llaves `{...}`:"
   ]
  },
  {
   "cell_type": "code",
   "execution_count": 12,
   "metadata": {},
   "outputs": [],
   "source": [
    "miDict = dict(uno = 1, dos = 2, info ='algo de informacion')\n",
    "miDict2 = {'diez':10, 'veinte':20, 'info':'mas informacion'}"
   ]
  },
  {
   "cell_type": "code",
   "execution_count": 13,
   "metadata": {},
   "outputs": [
    {
     "data": {
      "text/plain": [
       "'mas informacion'"
      ]
     },
     "execution_count": 13,
     "metadata": {},
     "output_type": "execute_result"
    }
   ],
   "source": [
    "miDict2['info']"
   ]
  },
  {
   "cell_type": "code",
   "execution_count": 14,
   "metadata": {},
   "outputs": [
    {
     "data": {
      "text/plain": [
       "dict_keys(['uno', 'dos', 'info'])"
      ]
     },
     "execution_count": 14,
     "metadata": {},
     "output_type": "execute_result"
    }
   ],
   "source": [
    "miDict.keys()"
   ]
  },
  {
   "cell_type": "code",
   "execution_count": 15,
   "metadata": {},
   "outputs": [
    {
     "data": {
      "text/plain": [
       "20"
      ]
     },
     "execution_count": 15,
     "metadata": {},
     "output_type": "execute_result"
    }
   ],
   "source": [
    "miDict2.get('veinte')"
   ]
  },
  {
   "cell_type": "markdown",
   "metadata": {},
   "source": [
    "**DataFrame**\n",
    "\n",
    "Estructura de datos optimizada para trabajar con datos estadísticos."
   ]
  },
  {
   "cell_type": "markdown",
   "metadata": {},
   "source": [
    "## Indexación & Slicing\n",
    "\n",
    "Las reglas para acceder elementos individuales en listas, tuplas o arrays de numpy son:"
   ]
  },
  {
   "cell_type": "code",
   "execution_count": 16,
   "metadata": {},
   "outputs": [],
   "source": [
    " #a[ini:fin] # items desde ini hasta fin-1\n",
    " # a[ini:]    # items desde ini hasta el resto del array\n",
    " # a[:fin]    # items desde el inicio hasta el final -1\n",
    " # a[:]       # todo el array`"
   ]
  },
  {
   "cell_type": "markdown",
   "metadata": {},
   "source": [
    "Se puede usar también `step` con cualquiera de las anteriores:"
   ]
  },
  {
   "cell_type": "markdown",
   "metadata": {},
   "source": [
    "`a[ini:fin:step] #empieza en ini hasta fin-1 separados por step`"
   ]
  },
  {
   "cell_type": "markdown",
   "metadata": {},
   "source": [
    "El punto clave a recordar es que la indexación empieza en 0, NO en 1; y que `:fin` representa el primer valor que NO es seleccionado.\n",
    "Los índices también pueden ser negativos (ini o fin) que indica que se cuenta desde el final del array y no desde el principio"
   ]
  },
  {
   "cell_type": "code",
   "execution_count": 17,
   "metadata": {},
   "outputs": [],
   "source": [
    "#a[-1] #ultimo ítem del array\n",
    "#a[-2:] #dos ultimos ítems del array\n",
    "#a[:-2] #todo excepto los dos últimos ítems`"
   ]
  },
  {
   "cell_type": "markdown",
   "metadata": {},
   "source": [
    "También `a[:5]` devuelve los 5 primeros elementos, y `a[-5:]` los últimos.\n",
    "\n",
    "<img src=\"images/im1.png\" width=\"700\" height=\"200\">\n",
    "\n"
   ]
  },
  {
   "cell_type": "markdown",
   "metadata": {},
   "source": [
    "Practica la indexación con el siguiente array:"
   ]
  },
  {
   "cell_type": "code",
   "execution_count": 18,
   "metadata": {},
   "outputs": [],
   "source": [
    "a = [5,4,3,6,8,62,1,2,3,6,8,9]"
   ]
  },
  {
   "cell_type": "code",
   "execution_count": 19,
   "metadata": {},
   "outputs": [
    {
     "data": {
      "text/plain": [
       "[9]"
      ]
     },
     "execution_count": 19,
     "metadata": {},
     "output_type": "execute_result"
    }
   ],
   "source": [
    "a[-1:]"
   ]
  },
  {
   "cell_type": "code",
   "execution_count": 20,
   "metadata": {},
   "outputs": [
    {
     "data": {
      "text/plain": [
       "[8, 9]"
      ]
     },
     "execution_count": 20,
     "metadata": {},
     "output_type": "execute_result"
    }
   ],
   "source": [
    "a[-2:]"
   ]
  },
  {
   "cell_type": "code",
   "execution_count": 21,
   "metadata": {},
   "outputs": [
    {
     "data": {
      "text/plain": [
       "[5, 4, 3, 6, 8, 62, 1, 2, 3, 6]"
      ]
     },
     "execution_count": 21,
     "metadata": {},
     "output_type": "execute_result"
    }
   ],
   "source": [
    "a[:-2]"
   ]
  },
  {
   "cell_type": "code",
   "execution_count": 22,
   "metadata": {},
   "outputs": [
    {
     "data": {
      "text/plain": [
       "[3, 8, 1, 3, 8]"
      ]
     },
     "execution_count": 22,
     "metadata": {},
     "output_type": "execute_result"
    }
   ],
   "source": [
    "a[2:12:2]"
   ]
  },
  {
   "cell_type": "code",
   "execution_count": 23,
   "metadata": {},
   "outputs": [
    {
     "data": {
      "text/plain": [
       "12"
      ]
     },
     "execution_count": 23,
     "metadata": {},
     "output_type": "execute_result"
    }
   ],
   "source": [
    "len(a)"
   ]
  },
  {
   "cell_type": "markdown",
   "metadata": {
    "collapsed": true
   },
   "source": [
    "## Vectores y Arrays"
   ]
  },
  {
   "cell_type": "markdown",
   "metadata": {},
   "source": [
    "*numpy* es el módulo de python que hace eficiente el trabajo con números. Comúnmente se importa como:"
   ]
  },
  {
   "cell_type": "code",
   "execution_count": 24,
   "metadata": {},
   "outputs": [],
   "source": [
    "import numpy as np"
   ]
  },
  {
   "cell_type": "markdown",
   "metadata": {},
   "source": [
    "Por defecto produce vectores. Los comandos más usados para generar números son:"
   ]
  },
  {
   "cell_type": "markdown",
   "metadata": {},
   "source": [
    "- **np.zeros**: genera ceros, solo se necesita un input. Si se necesita una matriz de ceros debe ser una tupla con el numero de filas y columnas:"
   ]
  },
  {
   "cell_type": "code",
   "execution_count": 25,
   "metadata": {},
   "outputs": [],
   "source": [
    "import numpy as np"
   ]
  },
  {
   "cell_type": "code",
   "execution_count": 26,
   "metadata": {},
   "outputs": [
    {
     "data": {
      "text/plain": [
       "array([0., 0., 0.])"
      ]
     },
     "execution_count": 26,
     "metadata": {},
     "output_type": "execute_result"
    }
   ],
   "source": [
    "np.zeros(3)"
   ]
  },
  {
   "cell_type": "code",
   "execution_count": 27,
   "metadata": {},
   "outputs": [
    {
     "data": {
      "text/plain": [
       "array([[0., 0.],\n",
       "       [0., 0.],\n",
       "       [0., 0.]])"
      ]
     },
     "execution_count": 27,
     "metadata": {},
     "output_type": "execute_result"
    }
   ],
   "source": [
    "np.zeros((3,2))"
   ]
  },
  {
   "cell_type": "markdown",
   "metadata": {},
   "source": [
    "- **np.ones**: genera unos\n",
    "- **np.random.randn**: genera números con distribución normal estándar"
   ]
  },
  {
   "cell_type": "code",
   "execution_count": 28,
   "metadata": {},
   "outputs": [
    {
     "data": {
      "text/plain": [
       "array([ 0.95740596,  0.74064528, -0.58542569,  1.08261112,  0.27100773,\n",
       "        0.87548422,  0.41673664,  0.88683243,  0.9415841 , -0.03567883])"
      ]
     },
     "execution_count": 28,
     "metadata": {},
     "output_type": "execute_result"
    }
   ],
   "source": [
    "np.random.randn(10)"
   ]
  },
  {
   "cell_type": "markdown",
   "metadata": {},
   "source": [
    "- **np.arange**: genera un rango de números. Los parámetros pueden ser `start`, `end` y `steppingInterval`. Nota que se excluye el valor final. "
   ]
  },
  {
   "cell_type": "code",
   "execution_count": 29,
   "metadata": {},
   "outputs": [
    {
     "data": {
      "text/plain": [
       "array([0, 1, 2])"
      ]
     },
     "execution_count": 29,
     "metadata": {},
     "output_type": "execute_result"
    }
   ],
   "source": [
    "np.arange(3)"
   ]
  },
  {
   "cell_type": "code",
   "execution_count": 30,
   "metadata": {},
   "outputs": [
    {
     "data": {
      "text/plain": [
       "array([0. , 0.5, 1. , 1.5, 2. , 2.5])"
      ]
     },
     "execution_count": 30,
     "metadata": {},
     "output_type": "execute_result"
    }
   ],
   "source": [
    "np.arange(0,3,0.5)"
   ]
  },
  {
   "cell_type": "code",
   "execution_count": 31,
   "metadata": {},
   "outputs": [],
   "source": [
    "xLow = np.arange(0,3,0.5)"
   ]
  },
  {
   "cell_type": "code",
   "execution_count": 32,
   "metadata": {},
   "outputs": [],
   "source": [
    "xHigh = np.arange(3,5,0.5)"
   ]
  },
  {
   "cell_type": "code",
   "execution_count": 33,
   "metadata": {},
   "outputs": [
    {
     "data": {
      "text/plain": [
       "array([0. , 0.5, 1. , 1.5, 2. , 2.5])"
      ]
     },
     "execution_count": 33,
     "metadata": {},
     "output_type": "execute_result"
    }
   ],
   "source": [
    "xLow"
   ]
  },
  {
   "cell_type": "code",
   "execution_count": 34,
   "metadata": {},
   "outputs": [
    {
     "data": {
      "text/plain": [
       "array([3. , 3.5, 4. , 4.5])"
      ]
     },
     "execution_count": 34,
     "metadata": {},
     "output_type": "execute_result"
    }
   ],
   "source": [
    "xHigh"
   ]
  },
  {
   "cell_type": "markdown",
   "metadata": {},
   "source": [
    "- **np.linspace**: genera valores espaciados en forma lineal"
   ]
  },
  {
   "cell_type": "code",
   "execution_count": 35,
   "metadata": {},
   "outputs": [
    {
     "data": {
      "text/plain": [
       "array([ 0.,  2.,  4.,  6.,  8., 10.])"
      ]
     },
     "execution_count": 35,
     "metadata": {},
     "output_type": "execute_result"
    }
   ],
   "source": [
    "np.linspace(0,10,6)"
   ]
  },
  {
   "cell_type": "markdown",
   "metadata": {},
   "source": [
    "- **np.array**: genera un array a partir de datos numéricos"
   ]
  },
  {
   "cell_type": "code",
   "execution_count": 36,
   "metadata": {},
   "outputs": [
    {
     "data": {
      "text/plain": [
       "array([[1, 2],\n",
       "       [3, 4]])"
      ]
     },
     "execution_count": 36,
     "metadata": {},
     "output_type": "execute_result"
    }
   ],
   "source": [
    "np.array([[1,2],[3,4]])"
   ]
  },
  {
   "cell_type": "markdown",
   "metadata": {},
   "source": [
    "Se debe resaltar unos tips que son peculiares de python"
   ]
  },
  {
   "cell_type": "markdown",
   "metadata": {},
   "source": [
    "- Las matrices son *listas de listas*, de modo que el primer elemento de una matriz te da la primera fila:"
   ]
  },
  {
   "cell_type": "code",
   "execution_count": 37,
   "metadata": {},
   "outputs": [],
   "source": [
    "Amat = np.array([[1,2],[3,4]])"
   ]
  },
  {
   "cell_type": "code",
   "execution_count": 38,
   "metadata": {},
   "outputs": [
    {
     "data": {
      "text/plain": [
       "array([1, 2])"
      ]
     },
     "execution_count": 38,
     "metadata": {},
     "output_type": "execute_result"
    }
   ],
   "source": [
    "Amat[0]"
   ]
  },
  {
   "cell_type": "markdown",
   "metadata": {},
   "source": [
    "- Un vector no es lo mismo que una matriz de dimensión 1. Por este motivo, los vectores no se pueden transponer pero si las matrices"
   ]
  },
  {
   "cell_type": "code",
   "execution_count": 39,
   "metadata": {},
   "outputs": [],
   "source": [
    "x = np.arange(3)"
   ]
  },
  {
   "cell_type": "code",
   "execution_count": 40,
   "metadata": {},
   "outputs": [],
   "source": [
    "Amat = np.array([[1,2],[3,4]])"
   ]
  },
  {
   "cell_type": "code",
   "execution_count": 41,
   "metadata": {},
   "outputs": [
    {
     "data": {
      "text/plain": [
       "array([ True,  True,  True])"
      ]
     },
     "execution_count": 41,
     "metadata": {},
     "output_type": "execute_result"
    }
   ],
   "source": [
    "x.T == x"
   ]
  },
  {
   "cell_type": "code",
   "execution_count": 42,
   "metadata": {},
   "outputs": [
    {
     "data": {
      "text/plain": [
       "array([[ True, False],\n",
       "       [False,  True]])"
      ]
     },
     "execution_count": 42,
     "metadata": {},
     "output_type": "execute_result"
    }
   ],
   "source": [
    "Amat.T == Amat"
   ]
  },
  {
   "cell_type": "markdown",
   "metadata": {},
   "source": [
    "## Conversiones entre tipos de datos"
   ]
  },
  {
   "cell_type": "markdown",
   "metadata": {},
   "source": [
    "En ocasiones necesitamos transformar datos entre *tipos*. Las funciones `int`, `float` y `str` nos ayudan en esta tarea. Veamos unos ejemplos"
   ]
  },
  {
   "cell_type": "code",
   "execution_count": 43,
   "metadata": {},
   "outputs": [
    {
     "name": "stdout",
     "output_type": "stream",
     "text": [
      "3.14 3\n"
     ]
    }
   ],
   "source": [
    "print(3.14, int(3.14))"
   ]
  },
  {
   "cell_type": "code",
   "execution_count": 44,
   "metadata": {},
   "outputs": [
    {
     "name": "stdout",
     "output_type": "stream",
     "text": [
      "3.9999 3\n"
     ]
    }
   ],
   "source": [
    "print(3.9999, int(3.9999)) # No se redondea al enterno más próximo"
   ]
  },
  {
   "cell_type": "code",
   "execution_count": 45,
   "metadata": {},
   "outputs": [
    {
     "name": "stdout",
     "output_type": "stream",
     "text": [
      "3.0 3\n"
     ]
    }
   ],
   "source": [
    "print(3.0, int(3.0))"
   ]
  },
  {
   "cell_type": "code",
   "execution_count": 46,
   "metadata": {},
   "outputs": [
    {
     "name": "stdout",
     "output_type": "stream",
     "text": [
      "9 9.0\n"
     ]
    }
   ],
   "source": [
    "print(9, float(9))"
   ]
  },
  {
   "cell_type": "code",
   "execution_count": 47,
   "metadata": {},
   "outputs": [
    {
     "name": "stdout",
     "output_type": "stream",
     "text": [
      "2345 2345\n"
     ]
    }
   ],
   "source": [
    "print(\"2345\",int(\"2345\")) # El string se convierte en int"
   ]
  },
  {
   "cell_type": "code",
   "execution_count": 48,
   "metadata": {},
   "outputs": [],
   "source": [
    "#print(int(\"23covid\"))"
   ]
  },
  {
   "cell_type": "code",
   "execution_count": 49,
   "metadata": {},
   "outputs": [
    {
     "name": "stdout",
     "output_type": "stream",
     "text": [
      "<class 'str'>\n"
     ]
    }
   ],
   "source": [
    "print(type(\"23.45\"))"
   ]
  },
  {
   "cell_type": "markdown",
   "metadata": {},
   "source": [
    "Una tarea común es concatenar strings con valores, veamos"
   ]
  },
  {
   "cell_type": "code",
   "execution_count": 50,
   "metadata": {},
   "outputs": [],
   "source": [
    "val = 5+3\n",
    "#print(\"El valor es: \" + val)"
   ]
  },
  {
   "cell_type": "code",
   "execution_count": 51,
   "metadata": {},
   "outputs": [
    {
     "name": "stdout",
     "output_type": "stream",
     "text": [
      "El valor es:  8\n"
     ]
    }
   ],
   "source": [
    "print(\"El valor es: \" , val) #Solucion 1"
   ]
  },
  {
   "cell_type": "code",
   "execution_count": 52,
   "metadata": {},
   "outputs": [
    {
     "name": "stdout",
     "output_type": "stream",
     "text": [
      "El valor es: 8\n"
     ]
    }
   ],
   "source": [
    "print(\"El valor es: \" + str(val)) #Solucion 1"
   ]
  },
  {
   "cell_type": "markdown",
   "metadata": {},
   "source": [
    "También se tiene *operadores aumentados* como `a+=b`, sus operaciones equivalentes se muestran a continuación:"
   ]
  },
  {
   "cell_type": "markdown",
   "metadata": {},
   "source": [
    "|   \t|             \t|\n",
    "|----\t|-----------------\t|\n",
    "| a+=b  \t| a = a+b            \t|\n",
    "| a-=b  \t| a = a-b           \t|\n",
    "| a*=b  \t| a = a*b  \t|\n",
    "| a/=b  \t| a = a/b        \t|\n",
    "| a**=b \t| a = a**b  \t|\n",
    "| a%=b  \t| a = a%b \t|"
   ]
  },
  {
   "cell_type": "markdown",
   "metadata": {},
   "source": [
    "### Operadores de comparación"
   ]
  },
  {
   "cell_type": "markdown",
   "metadata": {},
   "source": [
    "|   \t|             \t|\n",
    "|----\t|-----------------\t|\n",
    "| <  \t| Mayor que            \t|\n",
    "| >  \t| Menor que         \t|\n",
    "| <=  \t| Menor o igual a  \t|\n",
    "| >=  \t| Mayor o igual a        \t|\n",
    "| == \t| Igual a  \t|\n",
    "| !=  \t| No es igual a\t|"
   ]
  },
  {
   "cell_type": "markdown",
   "metadata": {},
   "source": [
    "Los números de diferentes tipos (int, float, str, etc.) se convierten a un tipo común para ser comparados. De lo contrario se consideran diferentes. Ejemplos:"
   ]
  },
  {
   "cell_type": "code",
   "execution_count": 53,
   "metadata": {},
   "outputs": [],
   "source": [
    "a = 2 # Int"
   ]
  },
  {
   "cell_type": "code",
   "execution_count": 54,
   "metadata": {},
   "outputs": [],
   "source": [
    "b = 1.99 #float"
   ]
  },
  {
   "cell_type": "code",
   "execution_count": 55,
   "metadata": {},
   "outputs": [],
   "source": [
    "c = '2' # str"
   ]
  },
  {
   "cell_type": "code",
   "execution_count": 56,
   "metadata": {},
   "outputs": [
    {
     "name": "stdout",
     "output_type": "stream",
     "text": [
      "True\n"
     ]
    }
   ],
   "source": [
    "print(a>b)"
   ]
  },
  {
   "cell_type": "code",
   "execution_count": 57,
   "metadata": {},
   "outputs": [
    {
     "name": "stdout",
     "output_type": "stream",
     "text": [
      "True\n"
     ]
    }
   ],
   "source": [
    "print(a>b and a!=c)"
   ]
  },
  {
   "cell_type": "code",
   "execution_count": 58,
   "metadata": {},
   "outputs": [
    {
     "name": "stdout",
     "output_type": "stream",
     "text": [
      "True\n"
     ]
    }
   ],
   "source": [
    "print(a>b or a ==b)"
   ]
  },
  {
   "cell_type": "markdown",
   "metadata": {},
   "source": [
    "### Condicionales"
   ]
  },
  {
   "cell_type": "markdown",
   "metadata": {},
   "source": [
    "**IF**"
   ]
  },
  {
   "cell_type": "markdown",
   "metadata": {},
   "source": [
    "`if condición:\n",
    "    bloque`"
   ]
  },
  {
   "cell_type": "markdown",
   "metadata": {},
   "source": [
    "Ejecuta un bloque de sentencias (que deben ser indentadas) si la condición es cierta. Si la condición es falsa, el bloque no se ejecuta. Un condicional `if` puede ser seguido de varios `elif` (que significa \"else if\")"
   ]
  },
  {
   "cell_type": "markdown",
   "metadata": {},
   "source": [
    "`elif condición:\n",
    "    bloque`"
   ]
  },
  {
   "cell_type": "markdown",
   "metadata": {},
   "source": [
    "también se usa `else`"
   ]
  },
  {
   "cell_type": "markdown",
   "metadata": {},
   "source": [
    "`else condición:\n",
    "    bloque`"
   ]
  },
  {
   "cell_type": "markdown",
   "metadata": {},
   "source": [
    "que se puede usar un bloque para cuando ninguna de las anteriores `elif` es verdadera. Definamos una función simple para evaluar condicionales"
   ]
  },
  {
   "cell_type": "code",
   "execution_count": 59,
   "metadata": {},
   "outputs": [],
   "source": [
    "def signo_de_a(a):\n",
    "    if(a < 0.0):\n",
    "        signo = 'negativo'\n",
    "    elif(a>0.0):\n",
    "        signo = 'positivo'\n",
    "    else: \n",
    "        signo = 'zero'\n",
    "    return(signo)\n",
    "            "
   ]
  },
  {
   "cell_type": "code",
   "execution_count": 60,
   "metadata": {},
   "outputs": [
    {
     "name": "stdout",
     "output_type": "stream",
     "text": [
      "El signo de a es: positivo\n"
     ]
    }
   ],
   "source": [
    "a = 1.5\n",
    "print('El signo de a es: '+ signo_de_a(a))"
   ]
  },
  {
   "cell_type": "markdown",
   "metadata": {},
   "source": [
    "### Bucles"
   ]
  },
  {
   "cell_type": "markdown",
   "metadata": {},
   "source": [
    "`while`"
   ]
  },
  {
   "cell_type": "markdown",
   "metadata": {},
   "source": [
    "`while condición:\n",
    "    bloque`"
   ]
  },
  {
   "cell_type": "markdown",
   "metadata": {},
   "source": [
    "Ejecuta el bloque de sentencias (intentadas) si la condición es cierta. Después de la ejecución del bloque, la condición se evalúa nuevamente. Si es verdadera, se vuelve a ejecutar. Continúa así hasta que la condición sea falsa. "
   ]
  },
  {
   "cell_type": "code",
   "execution_count": 61,
   "metadata": {},
   "outputs": [
    {
     "name": "stdout",
     "output_type": "stream",
     "text": [
      "[1.0, 0.5, 0.3333333333333333, 0.25]\n"
     ]
    }
   ],
   "source": [
    "nMax = 5\n",
    "n = 1\n",
    "a = [] # creamos una lista vacía\n",
    "while n < nMax:\n",
    "    a.append(1.0/n) # agregamos un elemento a la lista\n",
    "    n += 1\n",
    "print(a)"
   ]
  },
  {
   "cell_type": "markdown",
   "metadata": {},
   "source": [
    "## FOR"
   ]
  },
  {
   "cell_type": "markdown",
   "metadata": {},
   "source": [
    "Esta sentencia necesita un *objetivo* y una secuencia (usualmente una lista) sobre la que el *objetivo* itera. Su forma es:"
   ]
  },
  {
   "cell_type": "markdown",
   "metadata": {},
   "source": [
    "`for objetivo in secuencia:\n",
    "    bloque`"
   ]
  },
  {
   "cell_type": "markdown",
   "metadata": {},
   "source": [
    "Es posible añadir un `else` depués del for de ser necesario (aplica también para `while`)"
   ]
  },
  {
   "cell_type": "code",
   "execution_count": 62,
   "metadata": {},
   "outputs": [
    {
     "name": "stdout",
     "output_type": "stream",
     "text": [
      "[1.0, 0.5, 0.3333333333333333, 0.25]\n"
     ]
    }
   ],
   "source": [
    "nMax = 5\n",
    "a = []\n",
    "for n in range(1,nMax):\n",
    "    a.append(1.0/n)\n",
    "print(a)"
   ]
  },
  {
   "cell_type": "markdown",
   "metadata": {},
   "source": [
    "Aquí `n` es el objetivo y la lista es `[1,2,...,(nMax-1)]`, que se crea con la función `arange`. Veamos un ejemplo más completo que busca un nombre en una lista:"
   ]
  },
  {
   "cell_type": "code",
   "execution_count": 63,
   "metadata": {},
   "outputs": [
    {
     "name": "stdout",
     "output_type": "stream",
     "text": [
      "Tito no está en la lista\n"
     ]
    }
   ],
   "source": [
    "lista = [\"Julio\",\"Jammie\",\"Gina\",\"David\"]\n",
    "name = \"Tito\"#eval(input(\"Escriba un nombre: \")) #Codigo para ingresar datos\n",
    "for i in range(len(lista)):\n",
    "    if lista[i] == name:\n",
    "        print( name, 'es número', i+1, 'en la lista')\n",
    "        break\n",
    "else:\n",
    "    print( name, 'no está en la lista')"
   ]
  },
  {
   "cell_type": "code",
   "execution_count": 64,
   "metadata": {},
   "outputs": [],
   "source": [
    "### CONTINUE"
   ]
  },
  {
   "cell_type": "markdown",
   "metadata": {},
   "source": [
    "Esta sentencia, `continue`, permite saltarse una porción de código en un loop iterativo. Si el intérprete encuentra un `continue` regresa al principio del `loop` sin ejecutar las líneas debajo de `continue`. \n",
    "\n",
    "El siguiente ejemplo compila una lista de todos los números entre el 1 y el 99 que son divisibles para 7."
   ]
  },
  {
   "cell_type": "code",
   "execution_count": 65,
   "metadata": {},
   "outputs": [
    {
     "name": "stdout",
     "output_type": "stream",
     "text": [
      "[7, 14, 21, 28, 35, 42, 49, 56, 63, 70, 77, 84, 91, 98]\n"
     ]
    }
   ],
   "source": [
    "x = [] # creamos una lista vacía\n",
    "for i in range(1,100):\n",
    "    if i%7!=0: continue # Si no es divisible para 7, no se ejecuta el resto\n",
    "    x.append(i) # agregamos i a la lista\n",
    "print(x)"
   ]
  },
  {
   "cell_type": "markdown",
   "metadata": {},
   "source": [
    "# Programas en python\n",
    "## Funciones, módulos y paquetes"
   ]
  },
  {
   "cell_type": "markdown",
   "metadata": {},
   "source": [
    "- **Función** Una función se define por la palabra clave `def`. Devuelve un objeto con la sentencia `return` que generalmente va al final.\n",
    "- **Módulos** Es un archivo con la extensión `.py`. Los módulos pueden contener funciones y definiciones de variables.\n",
    "- **Paquetes**: Un paquete es una carpeta que contiene varios módulos y debe contener un archivo llamado `__init__.py`. Por ejemplo `numpy` es un paquete de python."
   ]
  },
  {
   "cell_type": "markdown",
   "metadata": {},
   "source": [
    "**Funciones**"
   ]
  },
  {
   "cell_type": "code",
   "execution_count": 66,
   "metadata": {},
   "outputs": [],
   "source": [
    "'''Demostración de una función de python\n",
    "author: thomas haslwanter, date: May-2015\n",
    "'''\n",
    "\n",
    "# Importamos los paquetes\n",
    "import numpy as np\n",
    "\n",
    "def incomeAndExpenses(data):\n",
    "    '''Encuentre la suma de valores positivos, y la suma de valores negativos.'''\n",
    "    income = np.sum(data[data>0])\n",
    "    expenses = np.sum(data[data<0])\n",
    "    return(income,expenses)\n",
    "\n"
   ]
  },
  {
   "cell_type": "code",
   "execution_count": 67,
   "metadata": {},
   "outputs": [
    {
     "name": "stdout",
     "output_type": "stream",
     "text": [
      "Has ganado USD 23.00 y gastado USD 15.00\n"
     ]
    }
   ],
   "source": [
    "testData = np.array([-5,12, 3, -6, -4, 8])\n",
    "(myIncome,myExpenses) = incomeAndExpenses(testData)\n",
    "print('Has ganado USD {0:5.2f} y gastado USD {1:5.2f}'.format(myIncome,-myExpenses))"
   ]
  },
  {
   "cell_type": "markdown",
   "metadata": {},
   "source": [
    "El número de parámetros en la definición de una función puede ser arbitrario. Por ejemplo, en la definición"
   ]
  },
  {
   "cell_type": "markdown",
   "metadata": {},
   "source": [
    "`def func(x1,x2,*x3)`"
   ]
  },
  {
   "cell_type": "markdown",
   "metadata": {},
   "source": [
    "`x1` y `x2` son parámetros usuales, también llamados *parámetros posicionales*, pero `x3` es una tupla de longitud arbitraria que contiene parámetros adicionales. Si llamamos a la función\n",
    "\n",
    "`func(a,b,c,d,e)`\n",
    "\n",
    "entonces a corresponde `a` `x1`, `b` a `x2` pero `c,d,e` corresponde a `x3`."
   ]
  },
  {
   "cell_type": "markdown",
   "metadata": {},
   "source": [
    "### Lambda"
   ]
  },
  {
   "cell_type": "markdown",
   "metadata": {},
   "source": [
    "Si la función tiene la forma de una expresión, se puede definir con la sentencia `lambda`.\n",
    "\n",
    "`func_name = lambda param1, param2, ...: expresión`\n",
    "\n",
    "\n",
    "No se permiten varias expresiones. Un ejemplo:\n"
   ]
  },
  {
   "cell_type": "code",
   "execution_count": 68,
   "metadata": {},
   "outputs": [
    {
     "name": "stdout",
     "output_type": "stream",
     "text": [
      "25\n"
     ]
    }
   ],
   "source": [
    "c = lambda x,y: x**2 + y**2\n",
    "print(c(3,4))"
   ]
  },
  {
   "cell_type": "markdown",
   "metadata": {},
   "source": [
    "## Tips de python"
   ]
  },
  {
   "cell_type": "markdown",
   "metadata": {},
   "source": [
    "1. Convenciones estándar\n",
    "    - Se debe documentar cada función debajo de su definición\n",
    "    - Los paquetes se deben importar con sus nombres comunes:\n",
    "        - `import numpy as np`\n",
    "        - `import matplotlib.pyplot as plt`\n",
    "        - `import scipy as sp`\n",
    "        - `import pandas as pd`\n",
    "        - `import seaborn as sns`\n",
    "2. Para obtener el directorio de trabajo actual usa `os.path.abspath(os.curdir)`. Para cambiar directorios usa `os.chdir(...)`\n",
    "3. Todo en python es un objeto, para saber el tipo de objeto con el que lideamos se usa `type(obj)`\n",
    "4. Conoce lo fundamental: listas, tuplas, directorios, numpy arrays y pandas DatFrames.\n",
    "5. Para temas de codificación en español puedes usar `# -*- coding: utf-8 -*-` al principio del código."
   ]
  }
 ],
 "metadata": {
  "kernelspec": {
   "display_name": "Python 3 (ipykernel)",
   "language": "python",
   "name": "python3"
  },
  "language_info": {
   "codemirror_mode": {
    "name": "ipython",
    "version": 3
   },
   "file_extension": ".py",
   "mimetype": "text/x-python",
   "name": "python",
   "nbconvert_exporter": "python",
   "pygments_lexer": "ipython3",
   "version": "3.9.12"
  }
 },
 "nbformat": 4,
 "nbformat_minor": 2
}