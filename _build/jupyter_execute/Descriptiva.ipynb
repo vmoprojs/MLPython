{
 "cells": [
  {
   "cell_type": "markdown",
   "metadata": {},
   "source": [
    "# Estadística Descriptiva"
   ]
  },
  {
   "cell_type": "markdown",
   "metadata": {},
   "source": [
    "\n",
    "- Librería básica: scipy.stats (importado como `stats`)\n",
    "\n",
    "- `SciPy` es una biblioteca de computación científica que utiliza `NumPy` como base.\n",
    "\n",
    "- SciPy significa *Scientific Python*.\n",
    "\n",
    "- Proporciona más funciones de utilidad para optimización, álgebra lineal, funciones especiales, procesamiento de señales, entre otras.\n",
    "\n",
    "- Al igual que `NumPy`, `SciPy` es de código abierto, por lo que podemos usarlo libremente.\n",
    "\n",
    "- `SciPy` fue creado por el creador de `NumPy`, [Travis Olliphant](https://es.wikipedia.org/wiki/Travis_Oliphant).\n",
    "\n",
    "\n"
   ]
  },
  {
   "cell_type": "markdown",
   "metadata": {},
   "source": [
    "## Medidas de resumen\n",
    "\n",
    "### Medidas de tendencial central\n",
    "\n",
    "Creamos 100 números aleatorios con distribución normal:"
   ]
  },
  {
   "cell_type": "code",
   "execution_count": 1,
   "metadata": {},
   "outputs": [],
   "source": [
    "import numpy as np\n",
    "N = 100\n",
    "np.random.seed(85) # genera una semilla para los números aleatorios\n",
    "x = np.random.normal(loc = 0, scale = 1, size = N)"
   ]
  },
  {
   "cell_type": "markdown",
   "metadata": {},
   "source": [
    "#### Promedio"
   ]
  },
  {
   "cell_type": "markdown",
   "metadata": {},
   "source": [
    "> Promedio o media: notado como $\\bar{x}$, de un conjunto de $n$ datos $x_1,x_2,\\ldots,x_n$ es igual a la suma de valores dividido para $n$.\n",
    "\n",
    "$$\n",
    "\\bar{x} = \\frac{x_1+x_2+\\ldots+x_n}{n}=\\frac{\\sum_{i=1}^nx_i}{n}\n",
    "$$\n",
    "\n",
    "-   Si las observaciones están agrupadas en una tabla de frecuencia de datos individuales de $k$ valores, el promedio se calcula\n",
    "\n",
    "$$\n",
    "\\bar{x} =\\frac{\\sum_{i=1}^kn_ix_i}{n}\n",
    "$$\n",
    "donde $n = {\\sum_{i=1}^kn_i}$.\n",
    "\n",
    "\n",
    "-   Si las observaciones están agrupadas en una tabla de frecuencias agrupadas por clases, se calcula el punto promedio de cada clase $x_i = \\frac{l_i+s_i}{2}$ ($i = 1,2,\\ldots,k$), donde $l_i$ y $s_i$ son la cota inferior y superor de cada clase respectivamente. El promedio es\n",
    "\n",
    "$$\n",
    "\\bar{x} =\\frac{\\sum_{i=1}^kn_ix_i}{n}\n",
    "$$\n",
    "\n",
    "Ventajas y desventajas del promedio:\n",
    "\n",
    "-   Se expresan en las mismas unidades quela variable\n",
    "-   En su cálculo intervienen todos los valores de la distribución\n",
    "-   Es el centro de gravedad de toda la distribución\n",
    "-   Es único\n",
    "-   Su principal inconveniente es que se ve afectado por valores atípicos\n"
   ]
  },
  {
   "cell_type": "code",
   "execution_count": 2,
   "metadata": {},
   "outputs": [
    {
     "data": {
      "text/plain": [
       "-0.07448679690601528"
      ]
     },
     "execution_count": 2,
     "metadata": {},
     "output_type": "execute_result"
    }
   ],
   "source": [
    "np.mean(x)"
   ]
  },
  {
   "cell_type": "markdown",
   "metadata": {},
   "source": [
    "Toma en cuenta lo que pasa con valores `nan`. `hstack` agrega valores al vector:"
   ]
  },
  {
   "cell_type": "code",
   "execution_count": 3,
   "metadata": {},
   "outputs": [],
   "source": [
    "x1 = np.hstack((x,np.nan))"
   ]
  },
  {
   "cell_type": "code",
   "execution_count": 4,
   "metadata": {},
   "outputs": [
    {
     "data": {
      "text/plain": [
       "nan"
      ]
     },
     "execution_count": 4,
     "metadata": {},
     "output_type": "execute_result"
    }
   ],
   "source": [
    "np.mean(x1)"
   ]
  },
  {
   "cell_type": "code",
   "execution_count": 5,
   "metadata": {},
   "outputs": [
    {
     "data": {
      "text/plain": [
       "-0.07448679690601528"
      ]
     },
     "execution_count": 5,
     "metadata": {},
     "output_type": "execute_result"
    }
   ],
   "source": [
    "np.nanmean(x1)"
   ]
  },
  {
   "cell_type": "code",
   "execution_count": 6,
   "metadata": {},
   "outputs": [
    {
     "data": {
      "text/plain": [
       "1.0336795016636526"
      ]
     },
     "execution_count": 6,
     "metadata": {},
     "output_type": "execute_result"
    }
   ],
   "source": [
    "np.nanstd(x1)"
   ]
  },
  {
   "cell_type": "code",
   "execution_count": 7,
   "metadata": {},
   "outputs": [
    {
     "data": {
      "text/plain": [
       "1.0684933121596172"
      ]
     },
     "execution_count": 7,
     "metadata": {},
     "output_type": "execute_result"
    }
   ],
   "source": [
    "np.nanvar(x1)"
   ]
  },
  {
   "cell_type": "code",
   "execution_count": 8,
   "metadata": {},
   "outputs": [
    {
     "data": {
      "text/plain": [
       "-0.15334269473584197"
      ]
     },
     "execution_count": 8,
     "metadata": {},
     "output_type": "execute_result"
    }
   ],
   "source": [
    "np.median(x)"
   ]
  },
  {
   "cell_type": "markdown",
   "metadata": {},
   "source": [
    "#### Mediana\n",
    "\n",
    "> La mediana de un conjunto de datos $x_1+x_2+\\ldots+x_n$ es el valor que se encuentra en el punto medio, cuando se ordenan los valores de menor a mayor.\n",
    "\n",
    "Se nota como $Q_2$ o *Med* y tiene la propiedad de que a cada lado se encuentra el 50% de los datos.\n",
    "\n",
    "\n",
    "Ventajas:\n",
    "\n",
    "-   No se ve afectada por valores extremos o atípicos\n",
    "\n",
    "- Fácil de interpretar como el \"valor medio\" de un conjunto de datos. Divide los datos en dos mitades.\n",
    "\n",
    "- En distribuciones asimétricas, la mediana proporciona una mejor representación del centro que la media, ya que no se ve arrastrada hacia la cola de la distribución.\n",
    "\n",
    "Desventajas:\n",
    "\n",
    "- La mediana es menos sensible a los cambios en los valores de los datos individuales en comparación con la media.\n",
    "\n",
    "- A diferencia de la media, la mediana no toma en cuenta todos los valores del conjunto de datos, sino solo el valor central. "
   ]
  },
  {
   "cell_type": "code",
   "execution_count": 9,
   "metadata": {},
   "outputs": [
    {
     "data": {
      "text/plain": [
       "-0.15334269473584197"
      ]
     },
     "execution_count": 9,
     "metadata": {},
     "output_type": "execute_result"
    }
   ],
   "source": [
    "np.median(x)"
   ]
  },
  {
   "cell_type": "markdown",
   "metadata": {},
   "source": [
    "#### La moda\n",
    "\n",
    "> Es el valor que más se repite en un conjunto de datos.\n",
    "\n",
    "Ventajas:\n",
    "\n",
    "-   Fácil de entender y calcular, especialmente en conjuntos de datos pequeños o cuando se analizan datos categóricos.\n",
    "\n",
    "- Única medida de tendencia central que puede aplicarse a datos cualitativos o categóricos, como colores, marcas o tipos\n",
    "\n",
    "- La moda no se ve influenciada por valores atípicos o extremos.\n",
    "\n",
    "Desventajas:\n",
    "\n",
    "- Puede haber más de una moda (multimodal), lo que complica la interpretación.\n",
    "\n",
    "- La moda no siempre representa bien el centro de la distribución, especialmente en distribuciones con una moda que es significativamente diferente de la media o la mediana.\n",
    "\n",
    "- Para datos continuos, la moda es menos útil, ya que cada valor puede ser único o tener una baja frecuencia, dificultando la identificación de una moda clara."
   ]
  },
  {
   "cell_type": "code",
   "execution_count": 10,
   "metadata": {},
   "outputs": [],
   "source": [
    "from scipy import stats"
   ]
  },
  {
   "cell_type": "code",
   "execution_count": 11,
   "metadata": {},
   "outputs": [],
   "source": [
    "data = [5,3,7,7,9,7]"
   ]
  },
  {
   "cell_type": "code",
   "execution_count": 12,
   "metadata": {},
   "outputs": [
    {
     "data": {
      "text/plain": [
       "ModeResult(mode=7, count=3)"
      ]
     },
     "execution_count": 12,
     "metadata": {},
     "output_type": "execute_result"
    }
   ],
   "source": [
    "stats.mode(data)"
   ]
  },
  {
   "cell_type": "markdown",
   "metadata": {},
   "source": [
    "Cuando tenemos resultados en varios elementos como el anterior `(mode=7, count=3)`, podemos guardarlos de la siguiente manera:"
   ]
  },
  {
   "cell_type": "code",
   "execution_count": 13,
   "metadata": {},
   "outputs": [
    {
     "data": {
      "text/plain": [
       "(7, 3)"
      ]
     },
     "execution_count": 13,
     "metadata": {},
     "output_type": "execute_result"
    }
   ],
   "source": [
    "(valor, freq) = stats.mode(data)\n",
    "(valor, freq)"
   ]
  },
  {
   "cell_type": "markdown",
   "metadata": {},
   "source": [
    "### Medidas de Dispersión"
   ]
  },
  {
   "cell_type": "markdown",
   "metadata": {},
   "source": [
    "#### Rango"
   ]
  },
  {
   "cell_type": "markdown",
   "metadata": {},
   "source": [
    "> Diferencia entre el valor más alto y el valor más bajo\n",
    "\n",
    "\n",
    "Ventajas:\n",
    "\n",
    "- Fácil de calcular y comprender.\n",
    "\n",
    "- Proporciona una idea rápida de la amplitud de los datos, lo que puede ser útil para comparar la variabilidad entre diferentes conjuntos de datos.\n",
    "\n",
    "Desventajas:\n",
    "\n",
    "- El rango se ve afectado por los valores atípicos, ya que depende únicamente de los valores máximo y mínimo. Un solo valor extremo puede distorsionar significativamente el rango.\n",
    "\n",
    "- Dos conjuntos de datos con el mismo rango pueden tener distribuciones internas muy diferentes.\n",
    "\n",
    "\n",
    "En Python se usa la función `np.ptp` donde `ptp` significa `peak to peak`\n"
   ]
  },
  {
   "cell_type": "code",
   "execution_count": 14,
   "metadata": {},
   "outputs": [],
   "source": [
    "range = np.ptp(x)"
   ]
  },
  {
   "cell_type": "code",
   "execution_count": 15,
   "metadata": {},
   "outputs": [
    {
     "data": {
      "text/plain": [
       "4.142508144337905"
      ]
     },
     "execution_count": 15,
     "metadata": {},
     "output_type": "execute_result"
    }
   ],
   "source": [
    "range"
   ]
  },
  {
   "cell_type": "markdown",
   "metadata": {},
   "source": [
    "#### Desviación estándar\n",
    "\n",
    "Fue introducida por Karl Person en 1894 y se define:\n",
    "\n",
    "> La desviación estándar (o desviación típica), notada por $s$, de un conjunto de $n$ mediciones $x_1+x_2+\\ldots+x_n$ es la raíz cuadrada de las desviaciones de las mediciones, respecto al promedio $\\bar{x}$, dividida entre $n-1$; es decir \n",
    "\n",
    "$$\n",
    "s  = \\sqrt{\\frac{1}{n-1}\\sum_{i = 1}^{n}(x_i-\\bar{x})^2}\n",
    "$$\n",
    "\n",
    "-   Se expresa en las mismas unidades que los datos originales\n",
    "-   En su cálculo intervienen todos los valores de la distribución\n",
    "-   Es única\n",
    "-   Se ve afectada por valores atípicos"
   ]
  },
  {
   "cell_type": "code",
   "execution_count": 16,
   "metadata": {},
   "outputs": [
    {
     "data": {
      "text/plain": [
       "1.0336795016636526"
      ]
     },
     "execution_count": 16,
     "metadata": {},
     "output_type": "execute_result"
    }
   ],
   "source": [
    "np.std(x)"
   ]
  },
  {
   "cell_type": "markdown",
   "metadata": {},
   "source": [
    "#### Varianza"
   ]
  },
  {
   "cell_type": "code",
   "execution_count": 17,
   "metadata": {},
   "outputs": [
    {
     "data": {
      "text/plain": [
       "1.0684933121596172"
      ]
     },
     "execution_count": 17,
     "metadata": {},
     "output_type": "execute_result"
    }
   ],
   "source": [
    "np.var(x)"
   ]
  },
  {
   "cell_type": "markdown",
   "metadata": {},
   "source": [
    "#### Cuantiles\n",
    "\n",
    "> Un cuantil divide la distribución de los datos en una proporción específica, el cuantil es el dato que corresponde a dicha división.\n",
    "\n",
    "El cuantil de orden $p$ de una distribución (con $0 < p < 1$) es el valor de la variable  $x_{p}$ que marca un corte de modo que una proporción $p$ de valores de la población es menor o igual que $x_{p}$. Por ejemplo, el cuantil de orden $0.36$ dejaría un 36% de valores por debajo y el cuantil de orden $0.50$ se corresponde con la mediana de la distribución.\n",
    "\n",
    "\n",
    "\n",
    "Los cuantiles suelen usarse por grupos que dividen la distribución en partes iguales; entendidas estas como intervalos que comprenden la misma proporción de valores. Los más usados son:\n",
    "\n",
    "-   Los cuartiles, que dividen a la distribución en cuatro partes (corresponden a los cuantiles $0.25$; $0.50$ y $0.75$);\n",
    "-   Los quintiles, que dividen a la distribución en cinco partes (corresponden a los cuantiles $0.20$; $0.40$; $0.60$ y $0.80$);\n",
    "-   Los deciles, que dividen a la distribución en diez partes;\n",
    "-   Los percentiles, que dividen a la distribución en cien partes."
   ]
  },
  {
   "cell_type": "code",
   "execution_count": 18,
   "metadata": {},
   "outputs": [
    {
     "data": {
      "text/plain": [
       "array([-0.97667604, -0.15334269,  0.70789384])"
      ]
     },
     "execution_count": 18,
     "metadata": {},
     "output_type": "execute_result"
    }
   ],
   "source": [
    "from scipy import stats\n",
    "\n",
    "#https://docs.scipy.org/doc/scipy/reference/stats.html\n",
    "stats.mstats.mquantiles(x)"
   ]
  },
  {
   "cell_type": "code",
   "execution_count": 19,
   "metadata": {},
   "outputs": [
    {
     "data": {
      "text/plain": [
       "array([-1.76475402, -1.38045444, -1.05285905, -0.76411302, -0.49263867,\n",
       "       -0.15334269,  0.16959572,  0.45482   ,  0.92681765,  1.44781882,\n",
       "        2.37775412])"
      ]
     },
     "execution_count": 19,
     "metadata": {},
     "output_type": "execute_result"
    }
   ],
   "source": [
    "stats.mstats.mquantiles(x,prob=np.arange(0,1.1,0.1))"
   ]
  },
  {
   "cell_type": "code",
   "execution_count": 20,
   "metadata": {},
   "outputs": [
    {
     "data": {
      "text/plain": [
       "DescribeResult(nobs=100, minmax=(-1.7647540193678475, 2.3777541249700573), mean=-0.07448679690601528, variance=1.0792861738986033, skewness=0.3655289306119107, kurtosis=-0.7791352022265521)"
      ]
     },
     "execution_count": 20,
     "metadata": {},
     "output_type": "execute_result"
    }
   ],
   "source": [
    "stats.describe(x)"
   ]
  },
  {
   "cell_type": "markdown",
   "metadata": {},
   "source": [
    "## Distribuciones"
   ]
  },
  {
   "cell_type": "markdown",
   "metadata": {},
   "source": [
    "### Variables aleatorias (v.a.)\n",
    "\n",
    "- Una **variable aleatoria** es un resultado numérico de un experimento.\n",
    "- Las variables aleatorias que estudiamos tienen dos variantes: **discretas** or **continuas**.\n",
    "- Las v.a discretas son las que tienen un número contable de posibilidades.\n",
    "  * $P(X = k)$\n",
    "- Las v.a. continuas toman valores en los reales o un subconjunto de los reales.\n",
    "  * $P(X \\in A)$\n",
    "\n",
    "---\n",
    "\n",
    "### Ejemplos de v.a.\n",
    "\n",
    "- Los resultados $(0-1)$ del lanzamiento de una moneda\n",
    "- Los resultados del lanzamiento de un dado\n",
    "- El índice de masa corpotal de una persona en una toma futura a la línea base\n",
    "- El estado de hipertensión de una persona seleccionada al alzar de una población\n",
    "\n",
    "---\n",
    "\n",
    "### Función de masa de probabilidad $p(x)$\n",
    "\n",
    "Una función de masa de probabilidad evaluada en un valor corresponde a la probabilidad que una v.a. toma ese valor. Para se una función válida, se debe satisfacer:\n",
    "\n",
    "  1. $p(x) \\geq 0$ for all $x$\n",
    "  2. $\\sum_{x} p(x) = 1$\n",
    "\n",
    "La suma se toma sobre todos los valores de $x$.\n",
    "\n",
    "---\n",
    "\n",
    "#### Ejemplo\n",
    "\n",
    "Sea $X$ el resultado del lanzamiento de una moneda donde $X=0$ representa\n",
    "sello y $X = 1$ representa cara.\n",
    "$$\n",
    "p(x) = (1/2)^{x} (1/2)^{1-x} ~~\\mbox{ for }~~x = 0,1\n",
    "$$\n",
    "Suponga que no sabemos si la moneda es justa. Sea\n",
    "$\\theta$  la probabilidad de que salga cara se expresa como una proporción\n",
    "(entre 0 y 1).\n",
    "$$\n",
    "p(x) = \\theta^{x} (1 - \\theta)^{1-x} ~~\\mbox{ for }~~x = 0,1\n",
    "$$\n",
    "\n",
    "---\n",
    "\n",
    "### Función de densidad\n",
    "\n",
    "Una función de densidad (pdf), es una función asociada con una v.a. continua \n",
    "\n",
    "  *Las areas debajo las pdfs corresponden a las probabilidades de esa v.a.*\n",
    "\n",
    "La función $f$ debe satisfacer\n",
    "\n",
    "1. $f(x) \\geq 0$ para todo $x$\n",
    "\n",
    "2. El área debajo de $f(x)$ es uno.\n",
    "\n",
    "---\n",
    "#### Ejemplo\n",
    "\n",
    "\n",
    "Supongamos que la proporción de llamadas de ayuda que se atienden en un día aleatorio en una línea de ayuda está dada por\n",
    "\n",
    "$$\n",
    "f(x) = \\left\\{\\begin{array}{ll}\n",
    "    2 x & \\mbox{ para } 1 > x > 0 \\\\\n",
    "    0                 & \\mbox{ en otro caso} \n",
    "\\end{array} \\right. \n",
    "$$\n",
    "\n",
    "¿Es esta una densidad válida?\n",
    "\n",
    "---"
   ]
  },
  {
   "cell_type": "code",
   "execution_count": 21,
   "metadata": {},
   "outputs": [
    {
     "data": {
      "text/plain": [
       "[<matplotlib.lines.Line2D at 0x7f81f4508f70>]"
      ]
     },
     "execution_count": 21,
     "metadata": {},
     "output_type": "execute_result"
    },
    {
     "data": {
      "image/png": "[encoded data removed]",
      "text/plain": [
       "<Figure size 640x480 with 1 Axes>"
      ]
     },
     "metadata": {},
     "output_type": "display_data"
    }
   ],
   "source": [
    "import matplotlib.pyplot as plt\n",
    "\n",
    "x = [-0.5, 0, 1, 1, 1.5]\n",
    "y = [0, 0, 2, 0, 0]\n",
    "\n",
    "plt.plot(x, y, linewidth=3)"
   ]
  },
  {
   "cell_type": "markdown",
   "metadata": {},
   "source": [
    "#### Ejemplo\n",
    "\n",
    "¿Cuál es la probabilidad de que se atienda el 75% o menos de las llamadas?\n"
   ]
  },
  {
   "cell_type": "code",
   "execution_count": 22,
   "metadata": {},
   "outputs": [
    {
     "data": {
      "text/plain": [
       "[<matplotlib.patches.Polygon at 0x7f81f47eb040>]"
      ]
     },
     "execution_count": 22,
     "metadata": {},
     "output_type": "execute_result"
    },
    {
     "data": {
      "image/png": "[encoded data removed]",
      "text/plain": [
       "<Figure size 640x480 with 1 Axes>"
      ]
     },
     "metadata": {},
     "output_type": "display_data"
    }
   ],
   "source": [
    "import matplotlib.pyplot as plt\n",
    "\n",
    "# Datos para la línea\n",
    "x = [-0.5, 0, 1, 1, 1.5]\n",
    "y = [0, 0, 2, 0, 0]\n",
    "\n",
    "# Crear la figura y los ejes\n",
    "fig, ax = plt.subplots()\n",
    "\n",
    "# Dibujar la línea\n",
    "ax.plot(x, y, linewidth=3)\n",
    "\n",
    "# Dibujar el polígono\n",
    "polygon_x = [0, 0.75, 0.75, 0]\n",
    "polygon_y = [0, 0, 1.5, 0]\n",
    "ax.fill(polygon_x, polygon_y, color=\"lightblue\", linewidth=3, edgecolor=\"black\")\n"
   ]
  },
  {
   "cell_type": "code",
   "execution_count": 23,
   "metadata": {},
   "outputs": [
    {
     "name": "stdout",
     "output_type": "stream",
     "text": [
      "0.5625\n",
      "0.5625\n"
     ]
    }
   ],
   "source": [
    "from scipy.stats import beta\n",
    "\n",
    "result_pbeta = beta.cdf(0.75, 2, 1)\n",
    "print(1.5 * .75 / 2)\n",
    "print(result_pbeta)"
   ]
  },
  {
   "cell_type": "markdown",
   "metadata": {},
   "source": [
    "### Función de distribución acumulada\n",
    "\n",
    "- La  **función de distribución acumulada** (CDF) de una v.a. $X$ se define como la función\n",
    "$$\n",
    "F(x) = P(X \\leq x)\n",
    "$$\n",
    "\n",
    "-   Esta definición aplica indistintamente de si $X$ es discreta o continua.\n",
    "-   La **función de supervivencia** de una v.a. $X$ es definida como\n",
    "\n",
    "$$\n",
    "S(x) = P(X > x)\n",
    "$$\n",
    "- Note que $S(x) = 1 - F(x)$\n",
    "- Para v.a. continuas, la función de densidad es la derivada de la acumulada\n",
    "\n",
    "---\n",
    "\n",
    "#### Ejemplo\n",
    "\n",
    "¿Cuál es la función de supervivencia y CDF de la densidad considerada antes?\n",
    "\n",
    "Para $1 \\geq x \\geq 0$\n",
    "$$\n",
    "F(x) = P(X \\leq x) = \\frac{1}{2} Base \\times Height = \\frac{1}{2} (x) \\times (2 x) = x^2\n",
    "$$\n",
    "\n",
    "$$\n",
    "S(x) = 1 - x^2\n",
    "$$\n",
    "\n"
   ]
  },
  {
   "cell_type": "code",
   "execution_count": 24,
   "metadata": {},
   "outputs": [
    {
     "name": "stdout",
     "output_type": "stream",
     "text": [
      "[0.16 0.25 0.36]\n"
     ]
    }
   ],
   "source": [
    "print(beta.cdf([0.4, 0.5, 0.6], 2, 1))"
   ]
  },
  {
   "cell_type": "markdown",
   "metadata": {},
   "source": [
    "### Función Cuantil\n",
    "\n",
    "- La  **función cuantil** (QF) de una v.a. $X$ se define como la función\n",
    "$$\n",
    "Q(x) = F^{-1}(x)\n",
    "$$\n",
    "\n",
    "Es decir, la función cuantil es la inversa de la función de distribución acumulada."
   ]
  },
  {
   "cell_type": "markdown",
   "metadata": {},
   "source": [
    "### En Python"
   ]
  },
  {
   "cell_type": "code",
   "execution_count": 25,
   "metadata": {},
   "outputs": [],
   "source": [
    "miFD = stats.norm(5,3)"
   ]
  },
  {
   "cell_type": "code",
   "execution_count": 26,
   "metadata": {},
   "outputs": [
    {
     "data": {
      "text/plain": [
       "<scipy.stats._distn_infrastructure.rv_continuous_frozen at 0x7f81f483c820>"
      ]
     },
     "execution_count": 26,
     "metadata": {},
     "output_type": "execute_result"
    }
   ],
   "source": [
    "miFD"
   ]
  },
  {
   "cell_type": "code",
   "execution_count": 27,
   "metadata": {},
   "outputs": [],
   "source": [
    "x = np.linspace(-5,15,101)\n",
    "y1 = miFD.pdf(x) # densidad\n",
    "y2 = miFD.cdf(x) # acumulada\n",
    "y3 = miFD.ppf(y2) # cuantil"
   ]
  },
  {
   "cell_type": "code",
   "execution_count": 28,
   "metadata": {},
   "outputs": [
    {
     "data": {
      "image/png": "[encoded data removed]",
      "text/plain": [
       "<Figure size 640x480 with 1 Axes>"
      ]
     },
     "metadata": {},
     "output_type": "display_data"
    }
   ],
   "source": [
    "import matplotlib.pyplot as plt\n",
    "\n",
    "plt.figure()\n",
    "plt.plot(x,y1,'-');"
   ]
  },
  {
   "cell_type": "code",
   "execution_count": 29,
   "metadata": {},
   "outputs": [
    {
     "data": {
      "image/png": "[encoded data removed]",
      "text/plain": [
       "<Figure size 640x480 with 1 Axes>"
      ]
     },
     "metadata": {},
     "output_type": "display_data"
    }
   ],
   "source": [
    "plt.figure()\n",
    "plt.plot(x,y2,'-');"
   ]
  },
  {
   "cell_type": "code",
   "execution_count": 30,
   "metadata": {},
   "outputs": [
    {
     "data": {
      "image/png": "[encoded data removed]",
      "text/plain": [
       "<Figure size 640x480 with 1 Axes>"
      ]
     },
     "metadata": {},
     "output_type": "display_data"
    }
   ],
   "source": [
    "plt.figure()\n",
    "x1 = np.linspace(0,1, len(y3))\n",
    "plt.plot(y2,y3,'-');"
   ]
  },
  {
   "cell_type": "markdown",
   "metadata": {},
   "source": [
    "Distribución acumulada empírica"
   ]
  },
  {
   "cell_type": "code",
   "execution_count": 31,
   "metadata": {},
   "outputs": [],
   "source": [
    "x = stats.norm.rvs(loc=0,scale=1,size=1000) # distribucion normal estandar\n",
    "x = np.sort(x) # odenamos los valores de la variable\n",
    "n = x.size # tamano de la muestra\n",
    "y = np.arange(1, n+1) / n # % acumulado"
   ]
  },
  {
   "cell_type": "code",
   "execution_count": 32,
   "metadata": {},
   "outputs": [
    {
     "data": {
      "text/plain": [
       "Text(0, 0.5, 'y')"
      ]
     },
     "execution_count": 32,
     "metadata": {},
     "output_type": "execute_result"
    },
    {
     "data": {
      "image/png": "[encoded data removed]",
      "text/plain": [
       "<Figure size 640x480 with 1 Axes>"
      ]
     },
     "metadata": {},
     "output_type": "display_data"
    }
   ],
   "source": [
    "plt.figure()\n",
    "plt.scatter(x=x, y=y);\n",
    "plt.xlabel('x', fontsize=16)\n",
    "plt.ylabel('y', fontsize=16)"
   ]
  },
  {
   "cell_type": "code",
   "execution_count": 33,
   "metadata": {},
   "outputs": [],
   "source": [
    "from statsmodels.distributions.empirical_distribution import ECDF\n",
    "ecdf = ECDF(x)"
   ]
  },
  {
   "cell_type": "code",
   "execution_count": 34,
   "metadata": {},
   "outputs": [
    {
     "data": {
      "text/plain": [
       "0.9440000000000001"
      ]
     },
     "execution_count": 34,
     "metadata": {},
     "output_type": "execute_result"
    }
   ],
   "source": [
    "ecdf(1.5)"
   ]
  },
  {
   "cell_type": "markdown",
   "metadata": {},
   "source": [
    "QQ plot"
   ]
  },
  {
   "cell_type": "code",
   "execution_count": 35,
   "metadata": {},
   "outputs": [],
   "source": [
    "#https://docs.scipy.org/doc/scipy/reference/generated/scipy.stats.probplot.html#scipy.stats.probplot\n",
    "nsample = 100\n",
    "np.random.seed(7654321)"
   ]
  },
  {
   "cell_type": "code",
   "execution_count": 36,
   "metadata": {},
   "outputs": [
    {
     "data": {
      "image/png": "[encoded data removed]",
      "text/plain": [
       "<Figure size 640x480 with 1 Axes>"
      ]
     },
     "metadata": {},
     "output_type": "display_data"
    }
   ],
   "source": [
    "plt.figure()\n",
    "x = stats.t.rvs(df=3, size=nsample)\n",
    "res = stats.probplot(x, plot=plt)"
   ]
  },
  {
   "cell_type": "code",
   "execution_count": null,
   "metadata": {},
   "outputs": [],
   "source": []
  }
 ],
 "metadata": {
  "celltoolbar": "Raw Cell Format",
  "kernelspec": {
   "display_name": "Python 3 (ipykernel)",
   "language": "python",
   "name": "python3"
  },
  "language_info": {
   "codemirror_mode": {
    "name": "ipython",
    "version": 3
   },
   "file_extension": ".py",
   "mimetype": "text/x-python",
   "name": "python",
   "nbconvert_exporter": "python",
   "pygments_lexer": "ipython3",
   "version": "3.9.19"
  }
 },
 "nbformat": 4,
 "nbformat_minor": 4
}